{
  "nbformat": 4,
  "nbformat_minor": 0,
  "metadata": {
    "colab": {
      "name": "BasicRL.ipynb",
      "provenance": [],
      "collapsed_sections": [],
      "authorship_tag": "ABX9TyPmVTIUOh/7AFTnNEMKm0y7",
      "include_colab_link": true
    },
    "kernelspec": {
      "name": "python3",
      "display_name": "Python 3"
    },
    "accelerator": "GPU"
  },
  "cells": [
    {
      "cell_type": "markdown",
      "metadata": {
        "id": "view-in-github",
        "colab_type": "text"
      },
      "source": [
        "<a href=\"https://colab.research.google.com/github/mahi97/MahiColabs/blob/master/BasicRL.ipynb\" target=\"_parent\"><img src=\"https://colab.research.google.com/assets/colab-badge.svg\" alt=\"Open In Colab\"/></a>"
      ]
    },
    {
      "cell_type": "code",
      "metadata": {
        "id": "uKcjbS7h_ouo",
        "colab_type": "code",
        "outputId": "b27e202b-412f-422e-ab7f-429cf07a853c",
        "colab": {
          "base_uri": "https://localhost:8080/",
          "height": 416
        }
      },
      "source": [
        "!pip install gym\n",
        "!pip install git+https://github.com/mrahtz/gym-moving-dot"
      ],
      "execution_count": 0,
      "outputs": [
        {
          "output_type": "stream",
          "text": [
            "Requirement already satisfied: gym in /usr/local/lib/python3.6/dist-packages (0.17.1)\n",
            "Requirement already satisfied: numpy>=1.10.4 in /usr/local/lib/python3.6/dist-packages (from gym) (1.18.2)\n",
            "Requirement already satisfied: six in /usr/local/lib/python3.6/dist-packages (from gym) (1.12.0)\n",
            "Requirement already satisfied: pyglet<=1.5.0,>=1.4.0 in /usr/local/lib/python3.6/dist-packages (from gym) (1.5.0)\n",
            "Requirement already satisfied: scipy in /usr/local/lib/python3.6/dist-packages (from gym) (1.4.1)\n",
            "Requirement already satisfied: cloudpickle<1.4.0,>=1.2.0 in /usr/local/lib/python3.6/dist-packages (from gym) (1.3.0)\n",
            "Requirement already satisfied: future in /usr/local/lib/python3.6/dist-packages (from pyglet<=1.5.0,>=1.4.0->gym) (0.16.0)\n",
            "Collecting git+https://github.com/mrahtz/gym-moving-dot\n",
            "  Cloning https://github.com/mrahtz/gym-moving-dot to /tmp/pip-req-build-aakjaflk\n",
            "  Running command git clone -q https://github.com/mrahtz/gym-moving-dot /tmp/pip-req-build-aakjaflk\n",
            "Requirement already satisfied (use --upgrade to upgrade): gym-moving-dot==2.0 from git+https://github.com/mrahtz/gym-moving-dot in /usr/local/lib/python3.6/dist-packages\n",
            "Requirement already satisfied: gym in /usr/local/lib/python3.6/dist-packages (from gym-moving-dot==2.0) (0.17.1)\n",
            "Requirement already satisfied: numpy in /usr/local/lib/python3.6/dist-packages (from gym-moving-dot==2.0) (1.18.2)\n",
            "Requirement already satisfied: six in /usr/local/lib/python3.6/dist-packages (from gym->gym-moving-dot==2.0) (1.12.0)\n",
            "Requirement already satisfied: pyglet<=1.5.0,>=1.4.0 in /usr/local/lib/python3.6/dist-packages (from gym->gym-moving-dot==2.0) (1.5.0)\n",
            "Requirement already satisfied: scipy in /usr/local/lib/python3.6/dist-packages (from gym->gym-moving-dot==2.0) (1.4.1)\n",
            "Requirement already satisfied: cloudpickle<1.4.0,>=1.2.0 in /usr/local/lib/python3.6/dist-packages (from gym->gym-moving-dot==2.0) (1.3.0)\n",
            "Requirement already satisfied: future in /usr/local/lib/python3.6/dist-packages (from pyglet<=1.5.0,>=1.4.0->gym->gym-moving-dot==2.0) (0.16.0)\n",
            "Building wheels for collected packages: gym-moving-dot\n",
            "  Building wheel for gym-moving-dot (setup.py) ... \u001b[?25l\u001b[?25hdone\n",
            "  Created wheel for gym-moving-dot: filename=gym_moving_dot-2.0-cp36-none-any.whl size=4166 sha256=2ae427799efb6f92d478a457da5cb18e56e5d0e36fc19e4b5e8df8424e735937\n",
            "  Stored in directory: /tmp/pip-ephem-wheel-cache-i4zs1xfi/wheels/2e/39/44/75a6ae7a5f83ccbaeabf1a5171e481e4384e37c4b45a0473f4\n",
            "Successfully built gym-moving-dot\n"
          ],
          "name": "stdout"
        }
      ]
    },
    {
      "cell_type": "code",
      "metadata": {
        "id": "B0TKr3gbB0hr",
        "colab_type": "code",
        "outputId": "f0c03f28-a239-4e92-e3fd-5ebde9476d7a",
        "colab": {
          "base_uri": "https://localhost:8080/",
          "height": 34
        }
      },
      "source": [
        "import numpy as np\n",
        "np.argmax([1,20,3,4])\n",
        "a= [1,2,3,4]\n",
        "a[3]"
      ],
      "execution_count": 0,
      "outputs": [
        {
          "output_type": "execute_result",
          "data": {
            "text/plain": [
              "4"
            ]
          },
          "metadata": {
            "tags": []
          },
          "execution_count": 2
        }
      ]
    },
    {
      "cell_type": "markdown",
      "metadata": {
        "id": "qcl5OhJbGAXP",
        "colab_type": "text"
      },
      "source": [
        "Define Model"
      ]
    },
    {
      "cell_type": "code",
      "metadata": {
        "id": "BIk3aRFnF606",
        "colab_type": "code",
        "outputId": "81fa5757-e245-4e47-9725-eceb05a63292",
        "colab": {
          "base_uri": "https://localhost:8080/",
          "height": 116
        }
      },
      "source": [
        "import tensorflow as tf\n",
        "import numpy as np\n",
        "import random\n",
        "\n",
        "def weight_variable(shape):\n",
        "    '''Helper function to create a weight variable initialized with a normal distribution \n",
        "    Parameters\n",
        "    ----------\n",
        "    shape : list\n",
        "        Size of weight variable\n",
        "    '''\n",
        "    initial = tf.random_normal(shape, mean=0.0, stddev=0.01, dtype=tf.float64)\n",
        "    return tf.Variable(initial)\n",
        "\n",
        "\n",
        "# %%\n",
        "def bias_variable(shape):\n",
        "    '''Helper function to create a bias variable initialized with a constant value.\n",
        "    Parameters\n",
        "    ----------\n",
        "    shape : list\n",
        "        Size of weight variable\n",
        "    '''\n",
        "    initial = tf.random_normal(shape, mean=0.0, stddev=0.01, dtype=tf.float64)\n",
        "    return tf.Variable(initial)\n",
        "\n",
        "def MSE(yHat, y):\n",
        "    return tf.reduce_sum(tf.pow(yHat - y,2))\n",
        "\n",
        "# Model\n",
        "x = tf.placeholder(tf.float64, [None, 2])\n",
        "y = tf.placeholder(tf.float64, [None, 1])\n",
        "\n",
        "# w1 = weight_variable([2,2])\n",
        "# b1 = bias_variable([2])\n",
        "# w2 = weight_variable([5,3])\n",
        "# b2 = bias_variable([3])\n",
        "\n",
        "w_act = [weight_variable([2,1]) for _ in range(5)]\n",
        "b_act = [bias_variable([1]) for _ in range(5)]\n",
        "\n",
        "# f1 = tf.matmul(x, w1) + b1\n",
        "# f2 = tf.matmul(f1, w2) + b2\n",
        "out_act = [(tf.matmul(x, w_act[i]) + b_act[i]) for i in range(5)]\n",
        "\n",
        "cost = [MSE(y,out_act[i]) for i in range(5)]\n",
        "# Optimizer\n",
        "learning_rate = 0.001\n",
        "optimizer = [tf.train.AdamOptimizer(learning_rate).minimize(cost[i]) for i in range(5)]"
      ],
      "execution_count": 0,
      "outputs": [
        {
          "output_type": "display_data",
          "data": {
            "text/html": [
              "<p style=\"color: red;\">\n",
              "The default version of TensorFlow in Colab will soon switch to TensorFlow 2.x.<br>\n",
              "We recommend you <a href=\"https://www.tensorflow.org/guide/migrate\" target=\"_blank\">upgrade</a> now \n",
              "or ensure your notebook will continue to use TensorFlow 1.x via the <code>%tensorflow_version 1.x</code> magic:\n",
              "<a href=\"https://colab.research.google.com/notebooks/tensorflow_version.ipynb\" target=\"_blank\">more info</a>.</p>\n"
            ],
            "text/plain": [
              "<IPython.core.display.HTML object>"
            ]
          },
          "metadata": {
            "tags": []
          }
        },
        {
          "output_type": "stream",
          "text": [
            "WARNING:tensorflow:From /tensorflow-1.15.0/python3.6/tensorflow_core/python/ops/math_grad.py:1375: where (from tensorflow.python.ops.array_ops) is deprecated and will be removed in a future version.\n",
            "Instructions for updating:\n",
            "Use tf.where in 2.0, which has the same broadcast rule as np.where\n"
          ],
          "name": "stdout"
        }
      ]
    },
    {
      "cell_type": "markdown",
      "metadata": {
        "id": "ZIkVBtgyGCoV",
        "colab_type": "text"
      },
      "source": [
        "Train and Test"
      ]
    },
    {
      "cell_type": "code",
      "metadata": {
        "id": "hm4VaqUH_3Oy",
        "colab_type": "code",
        "outputId": "d40f9a72-8bf2-476e-a02f-137488d06e55",
        "colab": {
          "base_uri": "https://localhost:8080/",
          "height": 52
        }
      },
      "source": [
        "import gym\n",
        "import gym_moving_dot\n",
        "from pprint import pprint\n",
        "\n",
        "env = gym.make('MovingDotDiscrete-v0')\n",
        "env.random_start = False\n",
        "\n",
        "sess = tf.Session()\n",
        "sess.run(tf.global_variables_initializer())\n"
      ],
      "execution_count": 0,
      "outputs": [
        {
          "output_type": "stream",
          "text": [
            "/usr/local/lib/python3.6/dist-packages/gym/logger.py:30: UserWarning: \u001b[33mWARN: Box bound precision lowered by casting to float32\u001b[0m\n",
            "  warnings.warn(colorize('%s: %s'%('WARN', msg % args), 'yellow'))\n"
          ],
          "name": "stderr"
        }
      ]
    },
    {
      "cell_type": "code",
      "metadata": {
        "id": "SiTrbqqh6yi6",
        "colab_type": "code",
        "colab": {}
      },
      "source": [
        "def one_shot(act):\n",
        "  a = [0 for i in range(5)]\n",
        "  a[act] = 1\n",
        "  return a"
      ],
      "execution_count": 0,
      "outputs": []
    },
    {
      "cell_type": "code",
      "metadata": {
        "id": "eqXJM1mYcg6S",
        "colab_type": "code",
        "colab": {}
      },
      "source": [
        "def get_pos(obs):\n",
        "  for i, oo in enumerate(obs):\n",
        "    for j, ooo in enumerate(oo):\n",
        "      if ooo[0] == 255:\n",
        "        return (i,j)\n",
        "  return (-1,-1)\n",
        "\n",
        "def nodel(pos,act):\n",
        "  return sess.run(out_act[act], feed_dict={x: np.array([pos[0], pos[1]]).reshape(1,2)})[0][0]\n",
        "\n",
        "def one_shot(act):\n",
        "  a = [0 for i in range(5)]\n",
        "  a[act] = 1\n",
        "  return a\n",
        "# LOOP\n",
        "env.random_start = True\n",
        "\n",
        "# 1. gather data by Model/Random\n",
        "data_r = []\n",
        "def expriment():\n",
        "  data_x = [[] for _ in range(5)]\n",
        "  data_y = [[] for _ in range(5)]\n",
        "  data_a = [[] for _ in range(5)]\n",
        "  rrr = []\n",
        "  num_batch = 1\n",
        "  num_iter = 200\n",
        "  expl_expr = 0.2\n",
        "  for i in range(num_batch):\n",
        "    # print('EXPRIMET: {}'.format(i))\n",
        "    o = env.reset()\n",
        "    a = env.action_space.sample()\n",
        "    pos = get_pos(o)\n",
        "    for j in range(num_iter):\n",
        "      o, r, d, info = env.step(a)\n",
        "      data_x[a].append(((pos[0]-105)/2,(pos[1]-80)/2))\n",
        "      rrr.append(r)\n",
        "      data_y[a].append(r)\n",
        "      pos = get_pos(o)\n",
        "      if j == 1:\n",
        "         print(pos)\n",
        "      r = [nodel(((pos[0]-105)/2,(pos[1]-80)/2),act) for act in range(env.action_space.n)]\n",
        "      if random.random() > expl_expr:\n",
        "        a = np.argmax(r)\n",
        "      else:\n",
        "        a = env.action_space.sample()\n",
        "      data_a[a].append(1)\n",
        "  print([sum(d) for d in data_a])\n",
        "  data_r.append(sum(rrr))\n",
        "  return data_x, data_y\n",
        "\n",
        "# print(data_x)\n",
        "# print(data_y)\n",
        "data_f = [[] for _ in range(5)]"
      ],
      "execution_count": 0,
      "outputs": []
    },
    {
      "cell_type": "code",
      "metadata": {
        "id": "a9RgYhPxfkso",
        "colab_type": "code",
        "colab": {}
      },
      "source": [
        "def train():\n",
        "  n_epochs = 30\n",
        "  for epoch_i in range(n_epochs):\n",
        "    data_x, data_y = expriment()\n",
        "    print(epoch_i)\n",
        "    for i in range(5):\n",
        "      sess.run(optimizer[i], feed_dict={x: data_x[i], y: np.array(data_y[i]).reshape(-1,1)})\n",
        "      data_f[i].append(sess.run(cost[i], feed_dict={x: data_x[i], y: np.array(data_y[i]).reshape(-1,1)}))"
      ],
      "execution_count": 0,
      "outputs": []
    },
    {
      "cell_type": "code",
      "metadata": {
        "id": "pBQB1zskNb2J",
        "colab_type": "code",
        "outputId": "7315b176-703b-43da-9706-c075bfd7f57c",
        "colab": {
          "base_uri": "https://localhost:8080/",
          "height": 1000
        }
      },
      "source": [
        "# 2. Train Model\n",
        "\n",
        "train()"
      ],
      "execution_count": 0,
      "outputs": [
        {
          "output_type": "stream",
          "text": [
            "(134, 120)\n",
            "[3, 45, 17, 76, 59]\n",
            "0\n",
            "(79, 72)\n",
            "[14, 92, 17, 67, 10]\n",
            "1\n",
            "(24, 153)\n",
            "[5, 95, 5, 15, 80]\n",
            "2\n",
            "(204, 146)\n",
            "[9, 8, 10, 102, 71]\n",
            "3\n",
            "(131, 63)\n",
            "[6, 61, 30, 89, 14]\n",
            "4\n",
            "(66, 154)\n",
            "[9, 70, 6, 33, 82]\n",
            "5\n",
            "(126, 59)\n",
            "[7, 68, 27, 91, 7]\n",
            "6\n",
            "(28, 20)\n",
            "[6, 97, 68, 20, 9]\n",
            "7\n",
            "(81, 149)\n",
            "[8, 61, 10, 39, 82]\n",
            "8\n",
            "(110, 85)\n",
            "[8, 79, 10, 86, 17]\n",
            "9\n",
            "(127, 21)\n",
            "[5, 44, 71, 68, 12]\n",
            "10\n",
            "(36, 61)\n",
            "[2, 117, 25, 49, 7]\n",
            "11\n",
            "(7, 58)\n",
            "[9, 128, 27, 31, 5]\n",
            "12\n",
            "(157, 154)\n",
            "[9, 16, 14, 71, 90]\n",
            "13\n",
            "(178, 76)\n",
            "[8, 44, 15, 121, 12]\n",
            "14\n",
            "(30, 85)\n",
            "[8, 113, 16, 41, 22]\n",
            "15\n",
            "(189, 66)\n",
            "[4, 33, 27, 121, 15]\n",
            "16\n",
            "(154, 19)\n",
            "[9, 28, 71, 80, 12]\n",
            "17\n",
            "(52, 41)\n",
            "[15, 90, 46, 40, 9]\n",
            "18\n",
            "(156, 137)\n",
            "[4, 34, 8, 87, 67]\n",
            "19\n",
            "(1, 37)\n",
            "[8, 122, 47, 18, 5]\n",
            "20\n",
            "(156, 89)\n",
            "[12, 55, 8, 107, 18]\n",
            "21\n",
            "(51, 74)\n",
            "[3, 113, 15, 59, 10]\n",
            "22\n",
            "(126, 18)\n",
            "[11, 46, 68, 69, 6]\n",
            "23\n",
            "(161, 137)\n",
            "[13, 21, 14, 79, 73]\n",
            "24\n",
            "(2, 63)\n",
            "[6, 129, 27, 27, 11]\n",
            "25\n",
            "(70, 90)\n",
            "[5, 93, 16, 59, 27]\n",
            "26\n",
            "(14, 96)\n",
            "[9, 124, 8, 34, 25]\n",
            "27\n",
            "(128, 107)\n",
            "[6, 11, 59, 36, 88]\n",
            "28\n",
            "(183, 57)\n",
            "[8, 15, 52, 96, 29]\n",
            "29\n"
          ],
          "name": "stdout"
        }
      ]
    },
    {
      "cell_type": "code",
      "metadata": {
        "id": "BzcSYp6_MwJh",
        "colab_type": "code",
        "outputId": "28f34c6f-d8f5-4951-9106-ec5bde39b0c3",
        "colab": {
          "base_uri": "https://localhost:8080/",
          "height": 269
        }
      },
      "source": [
        "%matplotlib inline\n",
        "import matplotlib.pyplot as plt\n",
        "for i in range(5):\n",
        "  plt.plot(range(len(data_r)),data_r)\n",
        "\n"
      ],
      "execution_count": 0,
      "outputs": [
        {
          "output_type": "display_data",
          "data": {
            "image/png": "[encoded data removed]",
            "text/plain": [
              "<Figure size 432x288 with 1 Axes>"
            ]
          },
          "metadata": {
            "tags": []
          }
        }
      ]
    },
    {
      "cell_type": "code",
      "metadata": {
        "id": "xPzoQnwE2mwV",
        "colab_type": "code",
        "colab": {}
      },
      "source": [
        "maps = [[[nodel(((x-26)/2,(y-20)/2),a) for y in range(40)] for x in range(52)] for a in range(5)]"
      ],
      "execution_count": 0,
      "outputs": []
    },
    {
      "cell_type": "code",
      "metadata": {
        "id": "ZSsLv-JKP3tC",
        "colab_type": "code",
        "outputId": "fbfe9ebe-066a-485f-cd0e-a4ad9a0d0ba3",
        "colab": {
          "base_uri": "https://localhost:8080/",
          "height": 343
        }
      },
      "source": [
        "import seaborn as sns; sns.set()\n",
        "fig = plt.figure(figsize=(30,5))\n",
        "ax1 = fig.add_subplot(151)\n",
        "ax2 = fig.add_subplot(152)\n",
        "ax3 = fig.add_subplot(153)\n",
        "ax4 = fig.add_subplot(154)\n",
        "ax5 = fig.add_subplot(155)\n",
        "sns.heatmap(maps[0],vmin=-1, vmax=1, ax=ax1)\n",
        "sns.heatmap(maps[1],vmin=-1, vmax=1, ax=ax2)\n",
        "sns.heatmap(maps[2],vmin=-1, vmax=1, ax=ax3)\n",
        "sns.heatmap(maps[3],vmin=-1, vmax=1, ax=ax4)\n",
        "sns.heatmap(maps[4],vmin=-1, vmax=1, ax=ax5)\n"
      ],
      "execution_count": 0,
      "outputs": [
        {
          "output_type": "execute_result",
          "data": {
            "text/plain": [
              "<matplotlib.axes._subplots.AxesSubplot at 0x7efef5000518>"
            ]
          },
          "metadata": {
            "tags": []
          },
          "execution_count": 20
        },
        {
          "output_type": "display_data",
          "data": {
            "image/png": "[encoded data removed]",
            "text/plain": [
              "<Figure size 2160x360 with 10 Axes>"
            ]
          },
          "metadata": {
            "tags": []
          }
        }
      ]
    },
    {
      "cell_type": "code",
      "metadata": {
        "id": "Uwfgxf7AaZmg",
        "colab_type": "code",
        "outputId": "d0318c91-bb7b-40e7-e5bf-b1372b6f0a96",
        "colab": {
          "base_uri": "https://localhost:8080/",
          "height": 1000
        }
      },
      "source": [
        "\n",
        "# 3. Evaluate Expriment\n",
        "test_num = 1\n",
        "max_iter = 200\n",
        "\n",
        "rewards = []\n",
        "for i in range(test_num):\n",
        "  o = env.reset()\n",
        "  pos = get_pos(o)\n",
        "  rewards.append([])\n",
        "  for _ in range(max_iter):\n",
        "    r = [nodel(((pos[0]-105)/2,(pos[1]-80)/2),act) for act in range(env.action_space.n)]\n",
        "    a = np.argmax(r)\n",
        "    print(pos, r,a)\n",
        "    o, r, d, info = env.step(a)\n",
        "    pos = get_pos(o)\n",
        "    rewards[i].append(r)\n",
        "    \n",
        "final = [sum(i) for i in rewards]\n",
        "print(final)\n",
        "print(\"Avg: {}\".format(sum([i/len(final) for i in final])))"
      ],
      "execution_count": 0,
      "outputs": [
        {
          "output_type": "stream",
          "text": [
            "(17, 52) [0.20878213693432887, 1.5388285370989625, 0.07616113278136495, -1.4157467590578992, -0.401656229046309] 1\n",
            "(18, 52) [0.20675986628532853, 1.5218204266103057, 0.07855647990365029, -1.3975075979526623, -0.4033239515889111] 1\n",
            "(19, 52) [0.20473759563632818, 1.5048123161216491, 0.08095182702593563, -1.3792684368474253, -0.4049916741315132] 1\n",
            "(20, 52) [0.2027153249873278, 1.4878042056329923, 0.08334717414822095, -1.3610292757421882, -0.40665939667411527] 1\n",
            "(21, 52) [0.20069305433832746, 1.4707960951443357, 0.08574252127050629, -1.3427901146369512, -0.4083271192167174] 1\n",
            "(22, 52) [0.19867078368932709, 1.453787984655679, 0.08813786839279163, -1.3245509535317144, -0.4099948417593195] 1\n",
            "(23, 52) [0.19664851304032674, 1.4367798741670224, 0.09053321551507694, -1.3063117924264773, -0.41166256430192155] 1\n",
            "(24, 52) [0.1946262423913264, 1.4197717636783656, 0.09292856263736228, -1.2880726313212403, -0.41333028684452366] 1\n",
            "(25, 52) [0.19260397174232602, 1.4027636531897087, 0.09532390975964762, -1.2698334702160032, -0.4149980093871258] 1\n",
            "(26, 52) [0.19058170109332567, 1.3857555427010522, 0.09771925688193296, -1.2515943091107662, -0.41666573192972783] 1\n",
            "(27, 52) [0.1885594304443253, 1.3687474322123954, 0.1001146040042183, -1.2333551480055294, -0.41833345447233] 1\n",
            "(28, 52) [0.18653715979532495, 1.3517393217237388, 0.10250995112650362, -1.2151159869002923, -0.42000117701493206] 1\n",
            "(29, 52) [0.1845148891463246, 1.334731211235082, 0.10490529824878896, -1.1968768257950553, -0.42166889955753417] 1\n",
            "(30, 52) [0.18249261849732423, 1.3177231007464254, 0.1073006453710743, -1.1786376646898182, -0.4233366221001363] 1\n",
            "(31, 52) [0.1804703478483239, 1.3007149902577686, 0.10969599249335961, -1.1603985035845814, -0.42500434464273834] 1\n",
            "(32, 52) [0.17844807719932354, 1.283706879769112, 0.11209133961564495, -1.1421593424793444, -0.42667206718534045] 1\n",
            "(33, 52) [0.17642580655032317, 1.2666987692804552, 0.11448668673793029, -1.1239201813741073, -0.42833978972794257] 1\n",
            "(34, 52) [0.17440353590132282, 1.2496906587917986, 0.11688203386021563, -1.1056810202688703, -0.4300075122705446] 1\n",
            "(35, 52) [0.17238126525232245, 1.2326825483031418, 0.11927738098250097, -1.0874418591636335, -0.43167523481314674] 1\n",
            "(36, 52) [0.1703589946033221, 1.2156744378144853, 0.12167272810478628, -1.0692026980583964, -0.43334295735574885] 1\n",
            "(37, 52) [0.16833672395432175, 1.1986663273258285, 0.12406807522707163, -1.0509635369531594, -0.4350106798983509] 1\n",
            "(38, 52) [0.16631445330532138, 1.1816582168371719, 0.12646342234935698, -1.0327243758479223, -0.436678402440953] 1\n",
            "(39, 52) [0.16429218265632103, 1.164650106348515, 0.1288587694716423, -1.0144852147426855, -0.43834612498355513] 1\n",
            "(40, 52) [0.16226991200732066, 1.1476419958598585, 0.13125411659392763, -0.9962460536374484, -0.44001384752615724] 1\n",
            "(41, 52) [0.16024764135832031, 1.1306338853712017, 0.13364946371621297, -0.9780068925322114, -0.44168157006875935] 1\n",
            "(42, 52) [0.15822537070931997, 1.1136257748825449, 0.13604481083849831, -0.9597677314269744, -0.4433492926113614] 1\n",
            "(43, 52) [0.1562031000603196, 1.0966176643938883, 0.13844015796078366, -0.9415285703217373, -0.4450170151539635] 1\n",
            "(44, 52) [0.15418082941131925, 1.0796095539052315, 0.14083550508306897, -0.9232894092165005, -0.44668473769656564] 1\n",
            "(45, 52) [0.1521585587623189, 1.062601443416575, 0.1432308522053543, -0.9050502481112634, -0.4483524602391677] 1\n",
            "(46, 52) [0.15013628811331853, 1.0455933329279181, 0.14562619932763965, -0.8868110870060264, -0.4500201827817698] 1\n",
            "(47, 52) [0.14811401746431818, 1.0285852224392615, 0.14802154644992496, -0.8685719259007894, -0.4516879053243719] 1\n",
            "(48, 52) [0.14609174681531784, 1.011577111950605, 0.1504168935722103, -0.8503327647955525, -0.453355627866974] 1\n",
            "(49, 52) [0.14406947616631746, 0.9945690014619483, 0.15281224069449564, -0.8320936036903155, -0.4550233504095761] 1\n",
            "(50, 52) [0.14204720551731712, 0.9775608909732916, 0.15520758781678098, -0.8138544425850784, -0.4566910729521782] 1\n",
            "(51, 52) [0.14002493486831674, 0.9605527804846349, 0.15760293493906632, -0.7956152814798416, -0.4583587954947803] 1\n",
            "(52, 52) [0.1380026642193164, 0.9435446699959782, 0.15999828206135164, -0.7773761203746046, -0.4600265180373824] 1\n",
            "(53, 52) [0.13598039357031605, 0.9265365595073215, 0.16239362918363698, -0.7591369592693675, -0.4616942405799845] 1\n",
            "(54, 52) [0.13395812292131568, 0.9095284490186648, 0.16478897630592232, -0.7408977981641305, -0.4633619631225866] 1\n",
            "(55, 52) [0.13193585227231533, 0.8925203385300081, 0.16718432342820763, -0.7226586370588937, -0.4650296856651887] 1\n",
            "(56, 52) [0.12991358162331496, 0.8755122280413514, 0.16957967055049297, -0.7044194759536566, -0.46669740820779076] 1\n",
            "(57, 52) [0.1278913109743146, 0.8585041175526947, 0.1719750176727783, -0.6861803148484196, -0.4683651307503929] 1\n",
            "(58, 52) [0.12586904032531426, 0.841496007064038, 0.17437036479506365, -0.6679411537431825, -0.470032853292995] 1\n",
            "(59, 52) [0.1238467696763139, 0.8244878965753814, 0.176765711917349, -0.6497019926379455, -0.47170057583559705] 1\n",
            "(60, 52) [0.12182449902731354, 0.8074797860867247, 0.1791610590396343, -0.6314628315327087, -0.47336829837819916] 1\n",
            "(61, 52) [0.11980222837831318, 0.790471675598068, 0.18155640616191965, -0.6132236704274716, -0.47503602092080127] 1\n",
            "(62, 52) [0.11777995772931284, 0.7734635651094113, 0.183951753284205, -0.5949845093222346, -0.4767037434634034] 1\n",
            "(63, 52) [0.11575768708031248, 0.7564554546207546, 0.1863471004064903, -0.5767453482169975, -0.4783714660060055] 1\n",
            "(64, 52) [0.11373541643131212, 0.7394473441320979, 0.18874244752877564, -0.5585061871117607, -0.48003918854860755] 1\n",
            "(65, 52) [0.11171314578231176, 0.7224392336434411, 0.19113779465106098, -0.5402670260065237, -0.4817069110912097] 1\n",
            "(66, 52) [0.1096908751333114, 0.7054311231547844, 0.19353314177334632, -0.5220278649012866, -0.4833746336338118] 1\n",
            "(67, 52) [0.10766860448431105, 0.6884230126661277, 0.19592848889563166, -0.5037887037960496, -0.48504235617641384] 1\n",
            "(68, 52) [0.10564633383531069, 0.671414902177471, 0.19832383601791698, -0.48554954269081274, -0.486710078719016] 1\n",
            "(69, 52) [0.10362406318631033, 0.6544067916888143, 0.20071918314020232, -0.4673103815855757, -0.48837780126161806] 1\n",
            "(70, 52) [0.10160179253730997, 0.6373986812001576, 0.20311453026248766, -0.4490712204803387, -0.4900455238042201] 1\n",
            "(71, 52) [0.09957952188830962, 0.6203905707115009, 0.20550987738477297, -0.43083205937510166, -0.4917132463468223] 1\n",
            "(72, 52) [0.09755725123930926, 0.6033824602228443, 0.2079052245070583, -0.4125928982698647, -0.49338096888942434] 1\n",
            "(73, 52) [0.0955349805903089, 0.5863743497341876, 0.21030057162934365, -0.3943537371646277, -0.4950486914320264] 1\n",
            "(74, 52) [0.09351270994130854, 0.5693662392455309, 0.212695918751629, -0.37611457605939064, -0.49671641397462857] 1\n",
            "(75, 52) [0.09149043929230818, 0.5523581287568742, 0.21509126587391433, -0.3578754149541537, -0.4983841365172306] 1\n",
            "(76, 52) [0.08946816864330782, 0.5353500182682175, 0.21748661299619965, -0.33963625384891666, -0.5000518590598327] 1\n",
            "(77, 52) [0.08744589799430748, 0.5183419077795608, 0.219881960118485, -0.3213970927436797, -0.5017195816024349] 1\n",
            "(78, 52) [0.08542362734530712, 0.501333797290904, 0.22227730724077033, -0.30315793163844273, -0.503387304145037] 1\n",
            "(79, 52) [0.08340135669630676, 0.48432568680224725, 0.22467265436305564, -0.28491877053320575, -0.5050550266876391] 1\n",
            "(80, 52) [0.0813790860473064, 0.46731757631359055, 0.22706800148534098, -0.26667960942796876, -0.5067227492302412] 1\n",
            "(81, 52) [0.07935681539830605, 0.45030946582493386, 0.22946334860762632, -0.2484404483227318, -0.5083904717728432] 1\n",
            "(82, 52) [0.07733454474930569, 0.43330135533627717, 0.23185869572991166, -0.23020128721749475, -0.5100581943154454] 1\n",
            "(83, 52) [0.07531227410030533, 0.4162932448476205, 0.234254042852197, -0.21196212611225776, -0.5117259168580475] 1\n",
            "(84, 52) [0.07329000345130497, 0.3992851343589638, 0.23664938997448232, -0.19372296500702077, -0.5133936394006495] 1\n",
            "(85, 52) [0.07126773280230461, 0.38227702387030704, 0.23904473709676766, -0.17548380390178378, -0.5150613619432517] 1\n",
            "(86, 52) [0.06924546215330427, 0.36526891338165035, 0.241440084219053, -0.1572446427965468, -0.5167290844858538] 1\n",
            "(87, 52) [0.0672231915043039, 0.34826080289299366, 0.2438354313413383, -0.1390054816913098, -0.5183968070284558] 1\n",
            "(88, 52) [0.06520092085530355, 0.33125269240433697, 0.24623077846362365, -0.12076632058607281, -0.520064529571058] 1\n",
            "(89, 52) [0.06317865020630319, 0.3142445819156803, 0.248626125585909, -0.10252715948083582, -0.52173225211366] 1\n",
            "(90, 52) [0.06115637955730284, 0.2972364714270236, 0.2510214727081943, -0.08428799837559883, -0.5233999746562622] 1\n",
            "(91, 52) [0.059134108908302487, 0.2802283609383669, 0.25341681983047964, -0.06604883727036184, -0.5250676971988643] 1\n",
            "(92, 52) [0.057111838259302126, 0.2632202504497102, 0.255812166952765, -0.04780967616512485, -0.5267354197414663] 1\n",
            "(93, 52) [0.055089567610301766, 0.24621213996105354, 0.25820751407505027, -0.029570515059887857, -0.5284031422840685] 2\n",
            "(93, 53) [0.05402936289683296, 0.24428261057681624, 0.2479765031346507, -0.0345974776541866, -0.5081405338848] 2\n",
            "(93, 54) [0.05296915818336414, 0.24235308119257895, 0.23774549219425106, -0.03962444024848535, -0.4878779254855315] 1\n",
            "(94, 54) [0.05094688753436378, 0.22534497070392226, 0.2401408393165364, -0.02138527914324833, -0.48954564802813355] 2\n",
            "(94, 55) [0.04988668282089497, 0.223415441319685, 0.22990982837613677, -0.026412241737547075, -0.46928303962886514] 2\n",
            "(94, 56) [0.04882647810742616, 0.22148591193544773, 0.21967881743573714, -0.031439204331845806, -0.44902043122959673] 1\n",
            "(95, 56) [0.046804207458425805, 0.20447780144679098, 0.22207416455802245, -0.013200043226608817, -0.45068815377219884] 2\n",
            "(95, 57) [0.045744002744956984, 0.2025482720625537, 0.21184315361762288, -0.01822700582090756, -0.43042554537293043] 2\n",
            "(95, 58) [0.04468379803148818, 0.20061874267831642, 0.20161214267722324, -0.023253968415206307, -0.410162936973662] 2\n",
            "(95, 59) [0.043623593318019356, 0.19868921329407915, 0.1913811317368236, -0.02828093100950505, -0.38990032857439355] 1\n",
            "(96, 59) [0.041601322669019, 0.18168110280542246, 0.19377647885910892, -0.010041769904268062, -0.3915680511169956] 2\n",
            "(96, 60) [0.04054111795555019, 0.17975157342118517, 0.1835454679187093, -0.015068732498566793, -0.3713054427177272] 2\n",
            "(96, 61) [0.039480913242081375, 0.1778220440369479, 0.17331445697830966, -0.02009569509286554, -0.3510428343184588] 1\n",
            "(97, 61) [0.03745864259308102, 0.1608139335482912, 0.175709804100595, -0.0018565339876285489, -0.3527105568610609] 2\n",
            "(97, 62) [0.03639843787961221, 0.15888440416405392, 0.16547879316019537, -0.006883496581927294, -0.33244794846179243] 2\n",
            "(97, 63) [0.035338233166143394, 0.15695487477981665, 0.15524778221979574, -0.011910459176226039, -0.312185340062524] 1\n",
            "(98, 63) [0.033315962517143034, 0.13994676429115996, 0.15764312934208108, 0.006328701929010951, -0.31385306260512613] 2\n",
            "(98, 64) [0.03225575780367422, 0.13801723490692266, 0.14741211840168145, 0.0013017393347122055, -0.2935904542058577] 2\n",
            "(98, 65) [0.031195553090205407, 0.1360877055226854, 0.13718110746128181, -0.0037252232595865395, -0.2733278458065893] 2\n",
            "(98, 66) [0.030135348376736596, 0.1341581761384481, 0.12695009652088218, -0.008752185853885285, -0.2530652374073209] 1\n",
            "(99, 66) [0.028113077727736236, 0.11715006564979141, 0.1293454436431675, 0.009486975251351705, -0.254732959949923] 2\n",
            "(99, 67) [0.027052873014267422, 0.11522053626555412, 0.11911443270276786, 0.00446001265705296, -0.23447035155065457] 2\n",
            "(99, 68) [0.025992668300798612, 0.11329100688131685, 0.10888342176236823, -0.0005669499372457781, -0.21420774315138613] 1\n",
            "(100, 68) [0.023970397651798255, 0.09628289639266013, 0.11127876888465356, 0.017672211167991225, -0.21587546569398824] 2\n",
            "(100, 69) [0.02291019293832944, 0.09435336700842285, 0.10104775794425395, 0.01264524857369248, -0.19561285729471983] 2\n",
            "(100, 70) [0.021849988224860627, 0.09242383762418557, 0.09081674700385432, 0.007618285979393742, -0.1753502488954514] 1\n",
            "(101, 70) [0.019827717575860267, 0.07541572713552888, 0.09321209412613965, 0.02585744708463073, -0.17701797143805348] 2\n",
            "(101, 71) [0.018767512862391457, 0.0734861977512916, 0.08298108318574002, 0.020830484490331987, -0.15675536303878504] 2\n",
            "(101, 72) [0.017707308148922643, 0.07155666836705432, 0.07275007224534039, 0.01580352189603324, -0.13649275463951663] 2\n",
            "(101, 73) [0.01664710343545383, 0.06962713898281704, 0.06251906130494075, 0.010776559301734497, -0.11623014624024822] 1\n",
            "(102, 73) [0.014624832786453474, 0.05261902849416035, 0.06491440842722608, 0.029015720406971486, -0.11789786878285033] 2\n",
            "(102, 74) [0.013564628072984662, 0.05068949910992307, 0.05468339748682646, 0.023988757812672745, -0.09763526038358188] 2\n",
            "(102, 75) [0.012504423359515848, 0.04875996972568578, 0.04445238654642684, 0.018961795218374003, -0.07737265198431345] 1\n",
            "(103, 75) [0.01048215271051549, 0.031751859237029084, 0.04684773366871217, 0.037200956323611, -0.07904037452691555] 2\n",
            "(103, 76) [0.009421947997046678, 0.029822329852791804, 0.03661672272831254, 0.032173993729312254, -0.058777766127647124] 2\n",
            "(103, 77) [0.008361743283577864, 0.027892800468554524, 0.026385711787912908, 0.02714703113501351, -0.0385151577283787] 1\n",
            "(104, 77) [0.0063394726345775065, 0.010884689979897824, 0.02878105891019824, 0.045386192240250506, -0.0401828802709808] 3\n",
            "(103, 77) [0.008361743283577864, 0.027892800468554524, 0.026385711787912908, 0.02714703113501351, -0.0385151577283787] 1\n",
            "(104, 77) [0.0063394726345775065, 0.010884689979897824, 0.02878105891019824, 0.045386192240250506, -0.0401828802709808] 3\n",
            "(103, 77) [0.008361743283577864, 0.027892800468554524, 0.026385711787912908, 0.02714703113501351, -0.0385151577283787] 1\n",
            "(104, 77) [0.0063394726345775065, 0.010884689979897824, 0.02878105891019824, 0.045386192240250506, -0.0401828802709808] 3\n",
            "(103, 77) [0.008361743283577864, 0.027892800468554524, 0.026385711787912908, 0.02714703113501351, -0.0385151577283787] 1\n",
            "(104, 77) [0.0063394726345775065, 0.010884689979897824, 0.02878105891019824, 0.045386192240250506, -0.0401828802709808] 3\n",
            "(103, 77) [0.008361743283577864, 0.027892800468554524, 0.026385711787912908, 0.02714703113501351, -0.0385151577283787] 1\n",
            "(104, 77) [0.0063394726345775065, 0.010884689979897824, 0.02878105891019824, 0.045386192240250506, -0.0401828802709808] 3\n",
            "(103, 77) [0.008361743283577864, 0.027892800468554524, 0.026385711787912908, 0.02714703113501351, -0.0385151577283787] 1\n",
            "(104, 77) [0.0063394726345775065, 0.010884689979897824, 0.02878105891019824, 0.045386192240250506, -0.0401828802709808] 3\n",
            "(103, 77) [0.008361743283577864, 0.027892800468554524, 0.026385711787912908, 0.02714703113501351, -0.0385151577283787] 1\n",
            "(104, 77) [0.0063394726345775065, 0.010884689979897824, 0.02878105891019824, 0.045386192240250506, -0.0401828802709808] 3\n",
            "(103, 77) [0.008361743283577864, 0.027892800468554524, 0.026385711787912908, 0.02714703113501351, -0.0385151577283787] 1\n",
            "(104, 77) [0.0063394726345775065, 0.010884689979897824, 0.02878105891019824, 0.045386192240250506, -0.0401828802709808] 3\n",
            "(103, 77) [0.008361743283577864, 0.027892800468554524, 0.026385711787912908, 0.02714703113501351, -0.0385151577283787] 1\n",
            "(104, 77) [0.0063394726345775065, 0.010884689979897824, 0.02878105891019824, 0.045386192240250506, -0.0401828802709808] 3\n",
            "(103, 77) [0.008361743283577864, 0.027892800468554524, 0.026385711787912908, 0.02714703113501351, -0.0385151577283787] 1\n",
            "(104, 77) [0.0063394726345775065, 0.010884689979897824, 0.02878105891019824, 0.045386192240250506, -0.0401828802709808] 3\n",
            "(103, 77) [0.008361743283577864, 0.027892800468554524, 0.026385711787912908, 0.02714703113501351, -0.0385151577283787] 1\n",
            "(104, 77) [0.0063394726345775065, 0.010884689979897824, 0.02878105891019824, 0.045386192240250506, -0.0401828802709808] 3\n",
            "(103, 77) [0.008361743283577864, 0.027892800468554524, 0.026385711787912908, 0.02714703113501351, -0.0385151577283787] 1\n",
            "(104, 77) [0.0063394726345775065, 0.010884689979897824, 0.02878105891019824, 0.045386192240250506, -0.0401828802709808] 3\n",
            "(103, 77) [0.008361743283577864, 0.027892800468554524, 0.026385711787912908, 0.02714703113501351, -0.0385151577283787] 1\n",
            "(104, 77) [0.0063394726345775065, 0.010884689979897824, 0.02878105891019824, 0.045386192240250506, -0.0401828802709808] 3\n",
            "(103, 77) [0.008361743283577864, 0.027892800468554524, 0.026385711787912908, 0.02714703113501351, -0.0385151577283787] 1\n",
            "(104, 77) [0.0063394726345775065, 0.010884689979897824, 0.02878105891019824, 0.045386192240250506, -0.0401828802709808] 3\n",
            "(103, 77) [0.008361743283577864, 0.027892800468554524, 0.026385711787912908, 0.02714703113501351, -0.0385151577283787] 1\n",
            "(104, 77) [0.0063394726345775065, 0.010884689979897824, 0.02878105891019824, 0.045386192240250506, -0.0401828802709808] 3\n",
            "(103, 77) [0.008361743283577864, 0.027892800468554524, 0.026385711787912908, 0.02714703113501351, -0.0385151577283787] 1\n",
            "(104, 77) [0.0063394726345775065, 0.010884689979897824, 0.02878105891019824, 0.045386192240250506, -0.0401828802709808] 3\n",
            "(103, 77) [0.008361743283577864, 0.027892800468554524, 0.026385711787912908, 0.02714703113501351, -0.0385151577283787] 1\n",
            "(104, 77) [0.0063394726345775065, 0.010884689979897824, 0.02878105891019824, 0.045386192240250506, -0.0401828802709808] 3\n",
            "(103, 77) [0.008361743283577864, 0.027892800468554524, 0.026385711787912908, 0.02714703113501351, -0.0385151577283787] 1\n",
            "(104, 77) [0.0063394726345775065, 0.010884689979897824, 0.02878105891019824, 0.045386192240250506, -0.0401828802709808] 3\n",
            "(103, 77) [0.008361743283577864, 0.027892800468554524, 0.026385711787912908, 0.02714703113501351, -0.0385151577283787] 1\n",
            "(104, 77) [0.0063394726345775065, 0.010884689979897824, 0.02878105891019824, 0.045386192240250506, -0.0401828802709808] 3\n",
            "(103, 77) [0.008361743283577864, 0.027892800468554524, 0.026385711787912908, 0.02714703113501351, -0.0385151577283787] 1\n",
            "(104, 77) [0.0063394726345775065, 0.010884689979897824, 0.02878105891019824, 0.045386192240250506, -0.0401828802709808] 3\n",
            "(103, 77) [0.008361743283577864, 0.027892800468554524, 0.026385711787912908, 0.02714703113501351, -0.0385151577283787] 1\n",
            "(104, 77) [0.0063394726345775065, 0.010884689979897824, 0.02878105891019824, 0.045386192240250506, -0.0401828802709808] 3\n",
            "(103, 77) [0.008361743283577864, 0.027892800468554524, 0.026385711787912908, 0.02714703113501351, -0.0385151577283787] 1\n",
            "(104, 77) [0.0063394726345775065, 0.010884689979897824, 0.02878105891019824, 0.045386192240250506, -0.0401828802709808] 3\n",
            "(103, 77) [0.008361743283577864, 0.027892800468554524, 0.026385711787912908, 0.02714703113501351, -0.0385151577283787] 1\n",
            "(104, 77) [0.0063394726345775065, 0.010884689979897824, 0.02878105891019824, 0.045386192240250506, -0.0401828802709808] 3\n",
            "(103, 77) [0.008361743283577864, 0.027892800468554524, 0.026385711787912908, 0.02714703113501351, -0.0385151577283787] 1\n",
            "(104, 77) [0.0063394726345775065, 0.010884689979897824, 0.02878105891019824, 0.045386192240250506, -0.0401828802709808] 3\n",
            "(103, 77) [0.008361743283577864, 0.027892800468554524, 0.026385711787912908, 0.02714703113501351, -0.0385151577283787] 1\n",
            "(104, 77) [0.0063394726345775065, 0.010884689979897824, 0.02878105891019824, 0.045386192240250506, -0.0401828802709808] 3\n",
            "(103, 77) [0.008361743283577864, 0.027892800468554524, 0.026385711787912908, 0.02714703113501351, -0.0385151577283787] 1\n",
            "(104, 77) [0.0063394726345775065, 0.010884689979897824, 0.02878105891019824, 0.045386192240250506, -0.0401828802709808] 3\n",
            "(103, 77) [0.008361743283577864, 0.027892800468554524, 0.026385711787912908, 0.02714703113501351, -0.0385151577283787] 1\n",
            "(104, 77) [0.0063394726345775065, 0.010884689979897824, 0.02878105891019824, 0.045386192240250506, -0.0401828802709808] 3\n",
            "(103, 77) [0.008361743283577864, 0.027892800468554524, 0.026385711787912908, 0.02714703113501351, -0.0385151577283787] 1\n",
            "(104, 77) [0.0063394726345775065, 0.010884689979897824, 0.02878105891019824, 0.045386192240250506, -0.0401828802709808] 3\n",
            "(103, 77) [0.008361743283577864, 0.027892800468554524, 0.026385711787912908, 0.02714703113501351, -0.0385151577283787] 1\n",
            "(104, 77) [0.0063394726345775065, 0.010884689979897824, 0.02878105891019824, 0.045386192240250506, -0.0401828802709808] 3\n",
            "(103, 77) [0.008361743283577864, 0.027892800468554524, 0.026385711787912908, 0.02714703113501351, -0.0385151577283787] 1\n",
            "(104, 77) [0.0063394726345775065, 0.010884689979897824, 0.02878105891019824, 0.045386192240250506, -0.0401828802709808] 3\n",
            "(103, 77) [0.008361743283577864, 0.027892800468554524, 0.026385711787912908, 0.02714703113501351, -0.0385151577283787] 1\n",
            "(104, 77) [0.0063394726345775065, 0.010884689979897824, 0.02878105891019824, 0.045386192240250506, -0.0401828802709808] 3\n",
            "(103, 77) [0.008361743283577864, 0.027892800468554524, 0.026385711787912908, 0.02714703113501351, -0.0385151577283787] 1\n",
            "(104, 77) [0.0063394726345775065, 0.010884689979897824, 0.02878105891019824, 0.045386192240250506, -0.0401828802709808] 3\n",
            "(103, 77) [0.008361743283577864, 0.027892800468554524, 0.026385711787912908, 0.02714703113501351, -0.0385151577283787] 1\n",
            "(104, 77) [0.0063394726345775065, 0.010884689979897824, 0.02878105891019824, 0.045386192240250506, -0.0401828802709808] 3\n",
            "(103, 77) [0.008361743283577864, 0.027892800468554524, 0.026385711787912908, 0.02714703113501351, -0.0385151577283787] 1\n",
            "(104, 77) [0.0063394726345775065, 0.010884689979897824, 0.02878105891019824, 0.045386192240250506, -0.0401828802709808] 3\n",
            "(103, 77) [0.008361743283577864, 0.027892800468554524, 0.026385711787912908, 0.02714703113501351, -0.0385151577283787] 1\n",
            "(104, 77) [0.0063394726345775065, 0.010884689979897824, 0.02878105891019824, 0.045386192240250506, -0.0401828802709808] 3\n",
            "(103, 77) [0.008361743283577864, 0.027892800468554524, 0.026385711787912908, 0.02714703113501351, -0.0385151577283787] 1\n",
            "(104, 77) [0.0063394726345775065, 0.010884689979897824, 0.02878105891019824, 0.045386192240250506, -0.0401828802709808] 3\n",
            "(103, 77) [0.008361743283577864, 0.027892800468554524, 0.026385711787912908, 0.02714703113501351, -0.0385151577283787] 1\n",
            "(104, 77) [0.0063394726345775065, 0.010884689979897824, 0.02878105891019824, 0.045386192240250506, -0.0401828802709808] 3\n",
            "(103, 77) [0.008361743283577864, 0.027892800468554524, 0.026385711787912908, 0.02714703113501351, -0.0385151577283787] 1\n",
            "(104, 77) [0.0063394726345775065, 0.010884689979897824, 0.02878105891019824, 0.045386192240250506, -0.0401828802709808] 3\n",
            "(103, 77) [0.008361743283577864, 0.027892800468554524, 0.026385711787912908, 0.02714703113501351, -0.0385151577283787] 1\n",
            "(104, 77) [0.0063394726345775065, 0.010884689979897824, 0.02878105891019824, 0.045386192240250506, -0.0401828802709808] 3\n",
            "(103, 77) [0.008361743283577864, 0.027892800468554524, 0.026385711787912908, 0.02714703113501351, -0.0385151577283787] 1\n",
            "(104, 77) [0.0063394726345775065, 0.010884689979897824, 0.02878105891019824, 0.045386192240250506, -0.0401828802709808] 3\n",
            "(103, 77) [0.008361743283577864, 0.027892800468554524, 0.026385711787912908, 0.02714703113501351, -0.0385151577283787] 1\n",
            "(104, 77) [0.0063394726345775065, 0.010884689979897824, 0.02878105891019824, 0.045386192240250506, -0.0401828802709808] 3\n",
            "(103, 77) [0.008361743283577864, 0.027892800468554524, 0.026385711787912908, 0.02714703113501351, -0.0385151577283787] 1\n",
            "(104, 77) [0.0063394726345775065, 0.010884689979897824, 0.02878105891019824, 0.045386192240250506, -0.0401828802709808] 3\n",
            "(103, 77) [0.008361743283577864, 0.027892800468554524, 0.026385711787912908, 0.02714703113501351, -0.0385151577283787] 1\n",
            "(104, 77) [0.0063394726345775065, 0.010884689979897824, 0.02878105891019824, 0.045386192240250506, -0.0401828802709808] 3\n",
            "(103, 77) [0.008361743283577864, 0.027892800468554524, 0.026385711787912908, 0.02714703113501351, -0.0385151577283787] 1\n",
            "(104, 77) [0.0063394726345775065, 0.010884689979897824, 0.02878105891019824, 0.045386192240250506, -0.0401828802709808] 3\n",
            "(103, 77) [0.008361743283577864, 0.027892800468554524, 0.026385711787912908, 0.02714703113501351, -0.0385151577283787] 1\n",
            "[110]\n",
            "Avg: 110.0\n"
          ],
          "name": "stdout"
        }
      ]
    },
    {
      "cell_type": "code",
      "metadata": {
        "id": "lMV-0-wyvmHX",
        "colab_type": "code",
        "colab": {}
      },
      "source": [
        ""
      ],
      "execution_count": 0,
      "outputs": []
    }
  ]
}