{
  "nbformat": 4,
  "nbformat_minor": 0,
  "metadata": {
    "colab": {
      "name": "Untitled3.ipynb",
      "version": "0.3.2",
      "provenance": [],
      "private_outputs": true,
      "include_colab_link": true
    },
    "kernelspec": {
      "name": "python3",
      "display_name": "Python 3"
    },
    "accelerator": "TPU"
  },
  "cells": [
    {
      "cell_type": "markdown",
      "metadata": {
        "id": "view-in-github",
        "colab_type": "text"
      },
      "source": [
        "<a href=\"https://colab.research.google.com/github/mahi97/MahiColabs/blob/master/LinerRegression.ipynb\" target=\"_parent\"><img src=\"https://colab.research.google.com/assets/colab-badge.svg\" alt=\"Open In Colab\"/></a>"
      ]
    },
    {
      "metadata": {
        "id": "L9QV95GOXlr2",
        "colab_type": "code",
        "colab": {}
      },
      "cell_type": "code",
      "source": [
        "%matplotlib inline\n",
        "import numpy as np\n",
        "import tensorflow as tf\n",
        "import matplotlib.pyplot as plt"
      ],
      "execution_count": 0,
      "outputs": []
    },
    {
      "metadata": {
        "id": "L55Y5Pw0X5in",
        "colab_type": "code",
        "colab": {}
      },
      "cell_type": "code",
      "source": [
        "plt.ion()\n",
        "n_observation = 100\n",
        "fig, ax = plt.subplots(1,1)\n",
        "xs = np.linspace(-3, 3, n_observation)\n",
        "ys = np.sin(xs) + np.random.uniform(-0.5, 0.5, n_observation)\n",
        "ax.scatter(xs,ys)\n",
        "fig.show()\n",
        "plt.draw()"
      ],
      "execution_count": 0,
      "outputs": []
    },
    {
      "metadata": {
        "id": "9LgwugUwZwb8",
        "colab_type": "code",
        "colab": {}
      },
      "cell_type": "code",
      "source": [
        "X = tf.placeholder(tf.float32)\n",
        "Y = tf.placeholder(tf.float32)"
      ],
      "execution_count": 0,
      "outputs": []
    },
    {
      "metadata": {
        "id": "RPET8l78b8UJ",
        "colab_type": "code",
        "colab": {}
      },
      "cell_type": "code",
      "source": [
        "W = tf.Variable(tf.random_normal([1]), name='weight')\n",
        "b = tf.Variable(tf.random_normal([1]), name='bias')\n",
        "Y_pred = tf.add(tf.multiply(X, W), b)"
      ],
      "execution_count": 0,
      "outputs": []
    },
    {
      "metadata": {
        "id": "2hZ1UjvUcs8b",
        "colab_type": "code",
        "colab": {}
      },
      "cell_type": "code",
      "source": [
        "cost = tf.reduce_sum(tf.pow(Y_pred - Y, 2.0)) / (n_observation - 1)"
      ],
      "execution_count": 0,
      "outputs": []
    },
    {
      "metadata": {
        "id": "XMpAXhvxdIXd",
        "colab_type": "code",
        "colab": {}
      },
      "cell_type": "code",
      "source": [
        "# add regularization:\n",
        "# cost = tf.add(cost, tf.mul(1e-6, tf.global_norm([W])))"
      ],
      "execution_count": 0,
      "outputs": []
    },
    {
      "metadata": {
        "id": "YRAJQ04jdaMr",
        "colab_type": "code",
        "colab": {}
      },
      "cell_type": "code",
      "source": [
        "learning_rate = 0.01\n",
        "optimizer = tf.train.GradientDescentOptimizer(learning_rate).minimize(cost)\n",
        "fig.show()\n",
        "plt.draw()"
      ],
      "execution_count": 0,
      "outputs": []
    },
    {
      "metadata": {
        "id": "MpE8QfOceB0_",
        "colab_type": "code",
        "colab": {}
      },
      "cell_type": "code",
      "source": [
        "# %% We create a session to use the graph\n",
        "n_epochs = 1000\n",
        "fig.show()\n",
        "plt.draw()\n",
        "with tf.Session() as sess:\n",
        "    # Here we tell tensorflow that we want to initialize all\n",
        "    # the variables in the graph so we can use them\n",
        "    sess.run(tf.initialize_all_variables())\n",
        "    fig.show()\n",
        "    plt.draw()\n",
        "    # Fit all training data\n",
        "    prev_training_cost = 0.0\n",
        "    for epoch_i in range(n_epochs):\n",
        "          \n",
        "        fig.show()\n",
        "        plt.draw()\n",
        "        for (x, y) in zip(xs, ys):\n",
        "            sess.run(optimizer, feed_dict={X: x, Y: y})\n",
        "\n",
        "        training_cost = sess.run(\n",
        "            cost, feed_dict={X: xs, Y: ys})\n",
        "        print(training_cost)\n",
        "\n",
        "        if epoch_i % 20 == 0:\n",
        "          print(\"hey\")\n",
        "          ax.plot(xs, Y_pred.eval(\n",
        "                feed_dict={X: xs}, session=sess),\n",
        "                    'k', alpha=epoch_i / n_epochs)\n",
        "          fig.show()\n",
        "          plt.draw()\n",
        "\n",
        "        # Allow the training to quit if we've reached a minimum\n",
        "        if np.abs(prev_training_cost - training_cost) < 0.000001:\n",
        "            break\n",
        "        prev_training_cost = training_cost"
      ],
      "execution_count": 0,
      "outputs": []
    },
    {
      "metadata": {
        "id": "3KHmgX34hNYB",
        "colab_type": "code",
        "colab": {}
      },
      "cell_type": "code",
      "source": [
        ""
      ],
      "execution_count": 0,
      "outputs": []
    }
  ]
}