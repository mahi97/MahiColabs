{
  "nbformat": 4,
  "nbformat_minor": 0,
  "metadata": {
    "colab": {
      "name": "BasicConv.ipynb",
      "version": "0.3.2",
      "provenance": [],
      "collapsed_sections": [],
      "include_colab_link": true
    },
    "kernelspec": {
      "name": "python3",
      "display_name": "Python 3"
    },
    "accelerator": "GPU"
  },
  "cells": [
    {
      "cell_type": "markdown",
      "metadata": {
        "id": "view-in-github",
        "colab_type": "text"
      },
      "source": [
        "<a href=\"https://colab.research.google.com/github/mahi97/MahiColabs/blob/master/BasicConv.ipynb\" target=\"_parent\"><img src=\"https://colab.research.google.com/assets/colab-badge.svg\" alt=\"Open In Colab\"/></a>"
      ]
    },
    {
      "metadata": {
        "id": "lJBgpyZ1pJx1",
        "colab_type": "code",
        "colab": {}
      },
      "cell_type": "code",
      "source": [
        "import tensorflow as tf\n",
        "import numpy as np\n",
        "import matplotlib.pyplot as plt\n",
        "import tensorflow.keras.datasets.mnist as mnist"
      ],
      "execution_count": 0,
      "outputs": []
    },
    {
      "metadata": {
        "id": "QoUK0x8wAxjD",
        "colab_type": "code",
        "colab": {}
      },
      "cell_type": "code",
      "source": [
        "def montage_batch(images):\n",
        "    \"\"\"Draws all filters (n_input * n_output filters) as a\n",
        "    montage image separated by 1 pixel borders.\n",
        "    Parameters\n",
        "    ----------\n",
        "    batch : numpy.ndarray\n",
        "        Input array to create montage of.\n",
        "    Returns\n",
        "    -------\n",
        "    m : numpy.ndarray\n",
        "        Montage image.\n",
        "    \"\"\"\n",
        "    img_h = images.shape[1]\n",
        "    img_w = images.shape[2]\n",
        "    n_plots = int(np.ceil(np.sqrt(images.shape[0])))\n",
        "    m = np.ones(\n",
        "        (images.shape[1] * n_plots + n_plots + 1,\n",
        "         images.shape[2] * n_plots + n_plots + 1, 3)) * 0.5\n",
        "\n",
        "    for i in range(n_plots):\n",
        "        for j in range(n_plots):\n",
        "            this_filter = i * n_plots + j\n",
        "            if this_filter < images.shape[0]:\n",
        "                this_img = images[this_filter, ...]\n",
        "                m[1 + i + i * img_h:1 + i + (i + 1) * img_h,\n",
        "                  1 + j + j * img_w:1 + j + (j + 1) * img_w, :] = this_img\n",
        "    return m\n",
        "\n",
        "\n",
        "# %%\n",
        "def montage(W):\n",
        "    \"\"\"Draws all filters (n_input * n_output filters) as a\n",
        "    montage image separated by 1 pixel borders.\n",
        "    Parameters\n",
        "    ----------\n",
        "    W : numpy.ndarray\n",
        "        Input array to create montage of.\n",
        "    Returns\n",
        "    -------\n",
        "    m : numpy.ndarray\n",
        "        Montage image.\n",
        "    \"\"\"\n",
        "    W = np.reshape(W, [W.shape[0], W.shape[1], 1, W.shape[2] * W.shape[3]])\n",
        "    n_plots = int(np.ceil(np.sqrt(W.shape[-1])))\n",
        "    m = np.ones(\n",
        "        (W.shape[0] * n_plots + n_plots + 1,\n",
        "         W.shape[1] * n_plots + n_plots + 1)) * 0.5\n",
        "    for i in range(n_plots):\n",
        "        for j in range(n_plots):\n",
        "            this_filter = i * n_plots + j\n",
        "            if this_filter < W.shape[-1]:\n",
        "                m[1 + i + i * W.shape[0]:1 + i + (i + 1) * W.shape[0],\n",
        "                  1 + j + j * W.shape[1]:1 + j + (j + 1) * W.shape[1]] = (\n",
        "                    np.squeeze(W[:, :, :, this_filter]))\n",
        "    return m\n",
        "\n",
        "\n",
        "\n",
        "\n",
        "# %%\n",
        "def corrupt(x):\n",
        "    \"\"\"Take an input tensor and add uniform masking.\n",
        "    Parameters\n",
        "    ----------\n",
        "    x : Tensor/Placeholder\n",
        "        Input to corrupt.\n",
        "    Returns\n",
        "    -------\n",
        "    x_corrupted : Tensor\n",
        "        50 pct of values corrupted.\n",
        "    \"\"\"\n",
        "    return tf.multiply(x, tf.cast(tf.random_uniform(shape=tf.shape(x),\n",
        "                                               minval=0,\n",
        "                                               maxval=2,\n",
        "                                               dtype=tf.int32), tf.float32))\n",
        "\n",
        "\n",
        "# %%\n",
        "def weight_variable(shape):\n",
        "    '''Helper function to create a weight variable initialized with\n",
        "    a normal distribution\n",
        "    Parameters\n",
        "    ----------\n",
        "    shape : list\n",
        "        Size of weight variable\n",
        "    '''\n",
        "    initial = tf.random_normal(shape, mean=0.0, stddev=0.01, dtype=tf.float64)\n",
        "    return tf.Variable(initial)\n",
        "\n",
        "\n",
        "# %%\n",
        "def bias_variable(shape):\n",
        "    '''Helper function to create a bias variable initialized with\n",
        "    a constant value.\n",
        "    Parameters\n",
        "    ----------\n",
        "    shape : list\n",
        "        Size of weight variable\n",
        "    '''\n",
        "    initial = tf.random_normal(shape, mean=0.0, stddev=0.01, dtype=tf.float64)\n",
        "    return tf.Variable(initial)"
      ],
      "execution_count": 0,
      "outputs": []
    },
    {
      "metadata": {
        "id": "zTcrsJRApXwp",
        "colab_type": "code",
        "colab": {}
      },
      "cell_type": "code",
      "source": [
        "(X_train, y_train), (X_test, y_test) = mnist.load_data()\n",
        "X_train = X_train / 255.0\n",
        "X_test = X_test / 255.0\n",
        "y_test = [[0 == b,\n",
        "                   1 == b,\n",
        "                   2 == b,\n",
        "                   3 == b,\n",
        "                   4 == b,\n",
        "                   5 == b,\n",
        "                   6 == b,\n",
        "                   7 == b,\n",
        "                   8 == b,\n",
        "                   9 == b] for b in y_test]\n",
        "y_train = [[0 == b,\n",
        "                   1 == b,\n",
        "                   2 == b,\n",
        "                   3 == b,\n",
        "                   4 == b,\n",
        "                   5 == b,\n",
        "                   6 == b,\n",
        "                   7 == b,\n",
        "                   8 == b,\n",
        "                   9 == b] for b in y_train]"
      ],
      "execution_count": 0,
      "outputs": []
    },
    {
      "metadata": {
        "id": "Yyq_6_M0rwk-",
        "colab_type": "code",
        "colab": {}
      },
      "cell_type": "code",
      "source": [
        "n_input = 28 * 28\n",
        "n_output = 10\n",
        "x = tf.placeholder(tf.float64, (None, n_input))\n",
        "y = tf.placeholder(tf.float64, [None, n_output])"
      ],
      "execution_count": 0,
      "outputs": []
    },
    {
      "metadata": {
        "id": "w8Ldam3M_aqf",
        "colab_type": "code",
        "colab": {}
      },
      "cell_type": "code",
      "source": [
        "x_tensor = tf.reshape(x, [-1, 28, 28, 1])"
      ],
      "execution_count": 0,
      "outputs": []
    },
    {
      "metadata": {
        "id": "8OoNW2yF_oO4",
        "colab_type": "code",
        "colab": {
          "base_uri": "https://localhost:8080/",
          "height": 93
        },
        "outputId": "efb9dce5-5a3b-4d93-dd9d-b069d2961f32"
      },
      "cell_type": "code",
      "source": [
        "filter_size = 5\n",
        "n_filter_1 = 16\n",
        "W_conv1 = weight_variable([filter_size, filter_size, 1, n_filter_1])"
      ],
      "execution_count": 6,
      "outputs": [
        {
          "output_type": "stream",
          "text": [
            "WARNING:tensorflow:From /usr/local/lib/python3.6/dist-packages/tensorflow/python/framework/op_def_library.py:263: colocate_with (from tensorflow.python.framework.ops) is deprecated and will be removed in a future version.\n",
            "Instructions for updating:\n",
            "Colocations handled automatically by placer.\n"
          ],
          "name": "stdout"
        }
      ]
    },
    {
      "metadata": {
        "id": "6qN-6ZX5A7Es",
        "colab_type": "code",
        "colab": {}
      },
      "cell_type": "code",
      "source": [
        "b_conv1 = bias_variable([n_filter_1])"
      ],
      "execution_count": 0,
      "outputs": []
    },
    {
      "metadata": {
        "id": "tYLKPjRVBQag",
        "colab_type": "code",
        "colab": {}
      },
      "cell_type": "code",
      "source": [
        "h_conv1 = tf.nn.relu(tf.nn.conv2d(input=x_tensor,\n",
        "                                 filter=W_conv1,\n",
        "                                 strides=[1, 2, 2, 1],\n",
        "                                 padding='SAME') + b_conv1)"
      ],
      "execution_count": 0,
      "outputs": []
    },
    {
      "metadata": {
        "id": "BVM9sRs1Bw5y",
        "colab_type": "code",
        "colab": {}
      },
      "cell_type": "code",
      "source": [
        "n_filter_2 = 16\n",
        "W_conv2 = weight_variable([filter_size, filter_size, n_filter_1, n_filter_2])\n",
        "b_conv2 = bias_variable([n_filter_2])\n",
        "h_conv2 = tf.nn.relu(tf.nn.conv2d(input=h_conv1, filter=W_conv2,\n",
        "                                 strides=[1, 2, 2, 1],\n",
        "                                 padding='SAME') + b_conv2)\n"
      ],
      "execution_count": 0,
      "outputs": []
    },
    {
      "metadata": {
        "id": "VVbsc_xxDBo7",
        "colab_type": "code",
        "colab": {}
      },
      "cell_type": "code",
      "source": [
        "h_conv2_flat = tf.reshape(h_conv2, [-1, 7 * 7 * n_filter_2])"
      ],
      "execution_count": 0,
      "outputs": []
    },
    {
      "metadata": {
        "id": "My9G7FCODLMw",
        "colab_type": "code",
        "colab": {}
      },
      "cell_type": "code",
      "source": [
        "n_fc = 1024\n",
        "W_fc1 = weight_variable([7 * 7 * n_filter_2, n_fc])\n",
        "b_fc1 = bias_variable([n_fc])\n",
        "h_fc1 = tf.nn.relu(tf.matmul(h_conv2_flat, W_fc1) + b_fc1)"
      ],
      "execution_count": 0,
      "outputs": []
    },
    {
      "metadata": {
        "id": "SPGJoWHuDip7",
        "colab_type": "code",
        "colab": {}
      },
      "cell_type": "code",
      "source": [
        "keep_prob = tf.placeholder(tf.float64)\n",
        "h_fc1_drop = tf.nn.dropout(h_fc1, rate=1-keep_prob)"
      ],
      "execution_count": 0,
      "outputs": []
    },
    {
      "metadata": {
        "id": "dfYcFx5iDwZY",
        "colab_type": "code",
        "colab": {}
      },
      "cell_type": "code",
      "source": [
        "W_fc2 = weight_variable([n_fc, 10])\n",
        "b_fc2 = bias_variable([10])\n",
        "y_pred = tf.nn.softmax(tf.matmul(h_fc1_drop, W_fc2) + b_fc2)"
      ],
      "execution_count": 0,
      "outputs": []
    },
    {
      "metadata": {
        "id": "WrNAjJ86ETrs",
        "colab_type": "code",
        "colab": {}
      },
      "cell_type": "code",
      "source": [
        "cross_entropy = -tf.reduce_sum(y * tf.log(y_pred))\n",
        "optimzer = tf.train.AdamOptimizer().minimize(cross_entropy)"
      ],
      "execution_count": 0,
      "outputs": []
    },
    {
      "metadata": {
        "id": "pgyPldrKElwE",
        "colab_type": "code",
        "colab": {}
      },
      "cell_type": "code",
      "source": [
        "correct_prediction = tf.equal(tf.argmax(y_pred, 1), tf.argmax(y, 1))\n",
        "accuracy = tf.reduce_mean(tf.cast(correct_prediction, tf.float32))"
      ],
      "execution_count": 0,
      "outputs": []
    },
    {
      "metadata": {
        "id": "vQIxVCGrEzZq",
        "colab_type": "code",
        "colab": {}
      },
      "cell_type": "code",
      "source": [
        "sess = tf.Session()\n",
        "sess.run(tf.global_variables_initializer())"
      ],
      "execution_count": 0,
      "outputs": []
    },
    {
      "metadata": {
        "id": "tCXM16D8E360",
        "colab_type": "code",
        "outputId": "de63c9f7-360a-47ef-bf3e-aaf1b036b989",
        "colab": {
          "base_uri": "https://localhost:8080/",
          "height": 4134
        }
      },
      "cell_type": "code",
      "source": [
        "# %% We'll train in minibatches and report accuracy:\n",
        "batch_size = 1000\n",
        "n_epochs = 60\n",
        "for epoch_i in range(n_epochs):\n",
        "    print(epoch_i)\n",
        "    print(sess.run(W_conv1[0][0]))\n",
        "    for batch_i in range(X_train.shape[0] // batch_size):\n",
        "      batch_xs = X_train[batch_i * batch_size: (batch_i + 1) * batch_size].reshape(batch_size,784)\n",
        "      batch_ys = y_train[batch_i * batch_size: (batch_i + 1) * batch_size]\n",
        "      sess.run(optimzer, feed_dict={\n",
        "          x: batch_xs,\n",
        "          y: batch_ys,\n",
        "          keep_prob: 0.1})"
      ],
      "execution_count": 34,
      "outputs": [
        {
          "output_type": "stream",
          "text": [
            "0\n",
            "[[ 0.02053128 -0.05528478  0.00828938  0.07067184 -0.22227923  0.14275649\n",
            "  -0.00815174 -0.14769025 -0.022704   -0.05798616 -0.0960698  -0.03705601\n",
            "  -0.01798285 -0.02537169 -0.19570947 -0.07070084]]\n",
            "1\n",
            "[[ 0.0027851  -0.0293846   0.00597183  0.04664055 -0.24104272  0.12705337\n",
            "  -0.01041058 -0.1495301  -0.01845389 -0.03712979 -0.04014979 -0.02490178\n",
            "  -0.03536875 -0.01244005 -0.24736691 -0.03366685]]\n",
            "2\n",
            "[[-0.01256137 -0.01860897  0.01238931  0.03948127 -0.23879741  0.13581949\n",
            "  -0.01331794 -0.14603976 -0.0142583  -0.04977942 -0.028453   -0.01820385\n",
            "  -0.02126305 -0.00870117 -0.24430464 -0.02553578]]\n",
            "3\n",
            "[[-0.01491614 -0.01322011  0.01104589  0.03689591 -0.22997115  0.14043233\n",
            "  -0.00408966 -0.14670681 -0.00572728 -0.05137804 -0.02691642 -0.0162783\n",
            "  -0.02060078 -0.01157751 -0.23883643 -0.02123729]]\n",
            "4\n",
            "[[-0.01597534 -0.01064708  0.01352354  0.03446637 -0.22505978  0.12425779\n",
            "   0.00172628 -0.15469631 -0.00409207 -0.0650724  -0.02946275 -0.01842752\n",
            "  -0.01955579 -0.01884089 -0.24532634 -0.02579746]]\n",
            "5\n",
            "[[-0.00714796 -0.00055391  0.0137554   0.0408911  -0.21854943  0.12741165\n",
            "   0.00813604 -0.16165081  0.00069118 -0.05232737 -0.01386808 -0.01559909\n",
            "  -0.02262271 -0.01502984 -0.25322956 -0.01201294]]\n",
            "6\n",
            "[[-0.00702932  0.0091668   0.01320708  0.04147101 -0.20759771  0.11791854\n",
            "   0.00680721 -0.16679498  0.00650953 -0.06338449 -0.02142316 -0.01990401\n",
            "  -0.01887691 -0.01665537 -0.25379897 -0.01878815]]\n",
            "7\n",
            "[[-0.00314745  0.01918594  0.02181942  0.04883098 -0.20111096  0.11263428\n",
            "   0.013878   -0.16068039  0.01056799 -0.05599957 -0.00857673 -0.01079791\n",
            "  -0.00334889 -0.01217654 -0.25792651 -0.00494641]]\n",
            "8\n",
            "[[-0.00872942  0.02126662  0.02315283  0.04910094 -0.19665989  0.11135099\n",
            "   0.01130003 -0.1719373   0.00884869 -0.06188789 -0.0130128  -0.01384095\n",
            "  -0.00355304 -0.0196278  -0.25144692 -0.01313586]]\n",
            "9\n",
            "[[-0.00441346  0.02498283  0.01378407  0.05208699 -0.19063251  0.11423069\n",
            "   0.01591263 -0.16763565  0.01491102 -0.05962706 -0.01149815 -0.02326165\n",
            "  -0.00588652 -0.02521361 -0.24448888 -0.01467937]]\n",
            "10\n",
            "[[-0.00162879  0.03299171  0.01266724  0.05497699 -0.1908184   0.11410143\n",
            "   0.01711241 -0.16172647  0.01695186 -0.0613448  -0.00348337 -0.02312183\n",
            "  -0.00392471 -0.02623817 -0.24405894 -0.01453938]]\n",
            "11\n",
            "[[ 0.00496061  0.03883474  0.0146612   0.05263141 -0.18281192  0.11632687\n",
            "   0.02343924 -0.16395881  0.02169959 -0.06406435 -0.00085581 -0.01885305\n",
            "  -0.00123009 -0.02660053 -0.25151329 -0.01756753]]\n",
            "12\n",
            "[[ 0.00360964  0.02909554  0.01061552  0.0500671  -0.17915996  0.11129772\n",
            "   0.01621767 -0.16492195  0.01662015 -0.06761896 -0.00149663 -0.02091007\n",
            "   0.00330657 -0.03011239 -0.24619355 -0.01976113]]\n",
            "13\n",
            "[[-0.00268827  0.02779293  0.00737747  0.04614292 -0.1723361   0.10202071\n",
            "   0.01198879 -0.16404377  0.0142867  -0.06603545  0.00140989 -0.02063295\n",
            "   0.00359139 -0.03503446 -0.24343454 -0.02198403]]\n",
            "14\n",
            "[[-0.00266181  0.02685738  0.01007738  0.04686432 -0.16616228  0.10125494\n",
            "   0.01286464 -0.16564055  0.0136844  -0.06238168  0.00509513 -0.01738564\n",
            "   0.00566888 -0.03620575 -0.24719448 -0.01690784]]\n",
            "15\n",
            "[[-0.00303736  0.03068569  0.01044804  0.05096844 -0.15792018  0.10368364\n",
            "   0.01772073 -0.17109615  0.01249909 -0.06634167  0.00752629 -0.01897879\n",
            "   0.00877769 -0.03682444 -0.24169457 -0.0225338 ]]\n",
            "16\n",
            "[[-0.00247209  0.03267624  0.01027903  0.05559132 -0.15549817  0.10394593\n",
            "   0.02202914 -0.17840729  0.01444297 -0.06571288  0.01445098 -0.01995481\n",
            "   0.0063838  -0.03475085 -0.25142827 -0.02135759]]\n",
            "17\n",
            "[[-0.00660916  0.02733163  0.0116383   0.05489577 -0.1486983   0.1012931\n",
            "   0.01572913 -0.176304    0.01317239 -0.0644962   0.01595028 -0.01889094\n",
            "   0.01130952 -0.03363569 -0.24491282 -0.01805282]]\n",
            "18\n",
            "[[-0.01135894  0.02821475  0.00673636  0.04756991 -0.13671647  0.09616538\n",
            "   0.01541442 -0.17237498  0.01007354 -0.06200187  0.01466346 -0.02111613\n",
            "   0.00748149 -0.0365929  -0.23907315 -0.01852356]]\n",
            "19\n",
            "[[-0.00493874  0.03520932  0.01161984  0.05247723 -0.13171706  0.10110616\n",
            "   0.02416649 -0.16768025  0.01722005 -0.06239545  0.01229533 -0.01644841\n",
            "   0.00926596 -0.02953314 -0.2389459  -0.02008303]]\n",
            "20\n",
            "[[-0.00702396  0.04052983  0.0107752   0.05661171 -0.12665762  0.10639742\n",
            "   0.02701315 -0.16950327  0.02315677 -0.06381003  0.01184088 -0.01805691\n",
            "   0.01637819 -0.03158469 -0.2369997  -0.02402196]]\n",
            "21\n",
            "[[-0.0112288   0.03863983  0.00968165  0.05280733 -0.11777929  0.10562429\n",
            "   0.02123144 -0.16895807  0.01766785 -0.06419978  0.01620791 -0.01674943\n",
            "   0.01629782 -0.03323522 -0.24009706 -0.02830323]]\n",
            "22\n",
            "[[-0.0087119   0.03442821  0.01061793  0.05724251 -0.11030359  0.10969397\n",
            "   0.02549992 -0.16899633  0.02035991 -0.0670728   0.02232823 -0.01438764\n",
            "   0.02044627 -0.03325667 -0.22956491 -0.0243103 ]]\n",
            "23\n",
            "[[-0.01363166  0.03298699  0.01136364  0.05905155 -0.10424331  0.10951314\n",
            "   0.02323866 -0.16643331  0.01700143 -0.06811062  0.02889165 -0.01596314\n",
            "   0.01677299 -0.03570174 -0.22789497 -0.02361183]]\n",
            "24\n",
            "[[-0.01249224  0.03360388  0.0106805   0.06518146 -0.10803529  0.10604834\n",
            "   0.02438667 -0.16596389  0.01918471 -0.0694626   0.03467156 -0.01733067\n",
            "   0.01490405 -0.03521787 -0.22930342 -0.02433096]]\n",
            "25\n",
            "[[-0.01527691  0.03416642  0.0114913   0.06261231 -0.11159054  0.10196067\n",
            "   0.02127184 -0.16042016  0.01671609 -0.06871359  0.03641819 -0.0170645\n",
            "   0.01449651 -0.03516232 -0.22667002 -0.02433307]]\n",
            "26\n",
            "[[-0.01822038  0.03286641  0.01241165  0.06383701 -0.1081519   0.10548874\n",
            "   0.02057291 -0.16368271  0.00807324 -0.07410343  0.02437471 -0.01708846\n",
            "   0.01367189 -0.03491853 -0.2288398  -0.02723956]]\n",
            "27\n",
            "[[-0.01715032  0.03470487  0.01105906  0.06434156 -0.1074283   0.10215074\n",
            "   0.02592063 -0.15770093  0.00589695 -0.07514917  0.029803   -0.01721277\n",
            "   0.0091579  -0.03409945 -0.23397428 -0.02712241]]\n",
            "28\n",
            "[[-0.0157538   0.03731941  0.01235327  0.06445872 -0.10054105  0.1072864\n",
            "   0.02790594 -0.16066237  0.01667977 -0.07656726  0.03675154 -0.01682945\n",
            "   0.0132031  -0.03416249 -0.22785503 -0.02563337]]\n",
            "29\n",
            "[[-0.01722917  0.03926399  0.01034956  0.06330571 -0.09586012  0.10694685\n",
            "   0.02570372 -0.16282956  0.02064736 -0.0802906   0.03664417 -0.01811237\n",
            "   0.01422262 -0.03786643 -0.2279333  -0.03099267]]\n",
            "30\n",
            "[[-0.01873519  0.03647091  0.01043599  0.06243988 -0.08837885  0.10679694\n",
            "   0.02042853 -0.16229587  0.01658314 -0.08215877  0.03514115 -0.018352\n",
            "   0.01132841 -0.0383321  -0.22335169 -0.0323788 ]]\n",
            "31\n",
            "[[-0.01193319  0.04543336  0.01320906  0.06181016 -0.07599773  0.10601117\n",
            "   0.02715971 -0.1627908   0.02037509 -0.07362951  0.03715432 -0.01487379\n",
            "   0.0111058  -0.03686475 -0.23123102 -0.02517635]]\n",
            "32\n",
            "[[-0.01970296  0.03859538  0.01264266  0.06586119 -0.07385636  0.11594237\n",
            "   0.02443773 -0.16522558  0.02022287 -0.08102991  0.03248972 -0.01621293\n",
            "   0.02050872 -0.04032003 -0.22763697 -0.03209902]]\n",
            "33\n",
            "[[-0.02249698  0.04227941  0.01060379  0.07014022 -0.06370718  0.11968902\n",
            "   0.02712659 -0.16456071  0.01827835 -0.08114974  0.03808046 -0.01950069\n",
            "   0.01297976 -0.04208406 -0.22437494 -0.02860519]]\n",
            "34\n",
            "[[-0.01755064  0.04196589  0.00887169  0.07244647 -0.05977117  0.1236328\n",
            "   0.03146344 -0.16225278  0.02133318 -0.08454729  0.04116806 -0.01984865\n",
            "   0.01524949 -0.04653291 -0.22897382 -0.0312118 ]]\n",
            "35\n",
            "[[-0.02184127  0.04568478  0.0115285   0.07190202 -0.06030723  0.11722695\n",
            "   0.03474221 -0.16961586  0.02314152 -0.08637352  0.04817402 -0.01954885\n",
            "   0.01442978 -0.04343481 -0.23936535 -0.02801332]]\n",
            "36\n",
            "[[-0.02339436  0.04405326  0.00936566  0.06951912 -0.05091478  0.12024292\n",
            "   0.03468922 -0.1642581   0.01975736 -0.08906731  0.03731757 -0.02118109\n",
            "   0.01804305 -0.04427779 -0.23136289 -0.03088024]]\n",
            "37\n",
            "[[-0.02464157  0.04536443  0.00800924  0.06528757 -0.04526197  0.11386594\n",
            "   0.03022758 -0.15976623  0.01854444 -0.09037132  0.04253964 -0.02353541\n",
            "   0.01566361 -0.04461901 -0.22747829 -0.03120895]]\n",
            "38\n",
            "[[-0.0263149   0.04983945  0.01582687  0.07088752 -0.03988862  0.11430584\n",
            "   0.02926051 -0.15420406  0.0164089  -0.08937063  0.04743745 -0.01789937\n",
            "   0.01772901 -0.04058695 -0.23534685 -0.02643327]]\n",
            "39\n",
            "[[-0.02644668  0.05332778  0.01794532  0.07344411 -0.03732085  0.1134213\n",
            "   0.02729231 -0.15112842  0.0205101  -0.09052491  0.05064973 -0.01467197\n",
            "   0.01625211 -0.03888582 -0.23433347 -0.0218695 ]]\n",
            "40\n",
            "[[-0.02677391  0.05045353  0.01689136  0.07530437 -0.04237669  0.11244824\n",
            "   0.02460646 -0.15539263  0.01809221 -0.09371416  0.05402438 -0.01686732\n",
            "   0.01760043 -0.04176245 -0.23957179 -0.02798245]]\n",
            "41\n",
            "[[-0.02631055  0.04869602  0.01691529  0.07413562 -0.0400701   0.10814547\n",
            "   0.01693876 -0.16158204  0.01382162 -0.09447294  0.05033202 -0.01655598\n",
            "   0.01440954 -0.04074945 -0.23788502 -0.03052064]]\n",
            "42\n",
            "[[-0.03225066  0.04528484  0.01874764  0.07810323 -0.0464154   0.1015032\n",
            "   0.01401793 -0.15839015  0.00583477 -0.09641498  0.05007698 -0.01461318\n",
            "   0.01246408 -0.04044515 -0.24137761 -0.03289227]]\n",
            "43\n",
            "[[-0.02080292  0.04818566  0.01645168  0.07996133 -0.04276127  0.10464635\n",
            "   0.02100468 -0.15642397  0.01132103 -0.09422242  0.05337877 -0.0158343\n",
            "   0.00950701 -0.03662945 -0.2398089  -0.03100734]]\n",
            "44\n",
            "[[-0.02003546  0.05385379  0.01755566  0.07898969 -0.04190877  0.10450312\n",
            "   0.0270201  -0.15537771  0.00969708 -0.09382321  0.05715245 -0.01589706\n",
            "   0.00874452 -0.03603441 -0.23924543 -0.03243516]]\n",
            "45\n",
            "[[-0.01597444  0.06154197  0.01760537  0.08220488 -0.03686955  0.1072212\n",
            "   0.03586269 -0.16080016  0.01349459 -0.09077134  0.0529458  -0.01457449\n",
            "   0.01659434 -0.03571991 -0.23778454 -0.03068509]]\n",
            "46\n",
            "[[-0.01418334  0.07185109  0.01896959  0.08345094 -0.02271761  0.10359227\n",
            "   0.04421347 -0.15574986  0.02394655 -0.08969565  0.06295149 -0.01276768\n",
            "   0.01000178 -0.03737619 -0.23121142 -0.02575614]]\n",
            "47\n",
            "[[-0.01996231  0.06657826  0.02276171  0.07924447 -0.01345228  0.09965878\n",
            "   0.04064803 -0.15837127  0.02237988 -0.09774768  0.06407326 -0.01377962\n",
            "   0.01228357 -0.03765485 -0.23739885 -0.03269572]]\n",
            "48\n",
            "[[-0.02036188  0.06311326  0.02585413  0.08143279 -0.00416482  0.1046088\n",
            "   0.03623138 -0.15549531  0.02796342 -0.10083335  0.06149612 -0.01404357\n",
            "   0.00818855 -0.03431808 -0.24809564 -0.02948813]]\n",
            "49\n",
            "[[-0.02615503  0.05921752  0.02082109  0.07773016 -0.00154409  0.10247301\n",
            "   0.02797432 -0.15228364  0.02591143 -0.10311482  0.06307014 -0.01793605\n",
            "   0.01070644 -0.03717885 -0.23874867 -0.03150736]]\n",
            "50\n",
            "[[-0.02420265  0.05641311  0.01905718  0.07751211  0.00863198  0.10756951\n",
            "   0.02788791 -0.15506631  0.02690085 -0.10222224  0.0585055  -0.01903463\n",
            "   0.01150205 -0.03793029 -0.23955783 -0.03145063]]\n",
            "51\n",
            "[[-0.02859853  0.05890507  0.02365842  0.08231094  0.00765427  0.10106418\n",
            "   0.02917703 -0.1600548   0.0272313  -0.1047695   0.06632215 -0.01570154\n",
            "   0.01397889 -0.03557339 -0.24135825 -0.02891089]]\n",
            "52\n",
            "[[-0.02180901  0.06244737  0.02187164  0.08091434  0.01045071  0.10879698\n",
            "   0.02912038 -0.15938241  0.03228766 -0.10090562  0.06792308 -0.01440249\n",
            "   0.00966026 -0.02930983 -0.23777052 -0.02482007]]\n",
            "53\n",
            "[[-0.02176752  0.05732243  0.02139117  0.08788214  0.01395705  0.11080363\n",
            "   0.03198425 -0.15750686  0.02855612 -0.10250445  0.068185   -0.01559578\n",
            "   0.00713065 -0.03242364 -0.23247459 -0.02627521]]\n",
            "54\n",
            "[[-0.02111776  0.05639999  0.02126943  0.08913327  0.0216832   0.10670921\n",
            "   0.02573201 -0.15281494  0.02496301 -0.10398634  0.07030526 -0.01500856\n",
            "   0.00542451 -0.03357555 -0.23100537 -0.02791023]]\n",
            "55\n",
            "[[-0.02278759  0.05617792  0.02197453  0.09359281  0.02383573  0.10987789\n",
            "   0.02830447 -0.15738661  0.02502373 -0.10230751  0.07866259 -0.01102113\n",
            "   0.00612269 -0.03247948 -0.23357458 -0.03049813]]\n",
            "56\n",
            "[[-0.0248794   0.05626529  0.02317448  0.09905525  0.02385423  0.11091339\n",
            "   0.03003523 -0.16120035  0.03333427 -0.10800281  0.07711081 -0.01329183\n",
            "   0.00542629 -0.03398612 -0.23457958 -0.02676339]]\n",
            "57\n",
            "[[-0.02220228  0.05784425  0.02329861  0.09762934  0.03387475  0.10900885\n",
            "   0.02554684 -0.15945617  0.03005724 -0.10498686  0.07638587 -0.01774708\n",
            "   0.00086425 -0.03183192 -0.23053695 -0.02455312]]\n",
            "58\n",
            "[[-2.68223058e-02  6.06989694e-02  2.28430814e-02  9.53920126e-02\n",
            "   3.26933183e-02  1.07721863e-01  2.40757883e-02 -1.57770296e-01\n",
            "   2.29485790e-02 -1.04156836e-01  7.80614510e-02 -1.85202858e-02\n",
            "  -1.93931778e-04 -3.40597137e-02 -2.23051860e-01 -3.10986719e-02]]\n",
            "59\n",
            "[[-0.02346192  0.06956471  0.01876178  0.09351741  0.04326388  0.11396548\n",
            "   0.03142479 -0.16146105  0.02663799 -0.10849311  0.07744423 -0.02140019\n",
            "  -0.00192827 -0.03669674 -0.23156184 -0.03058617]]\n"
          ],
          "name": "stdout"
        }
      ]
    },
    {
      "metadata": {
        "id": "hFJxoqn6FVqC",
        "colab_type": "code",
        "outputId": "609a0b2f-10d7-4889-bf13-eeb9665d023f",
        "colab": {
          "base_uri": "https://localhost:8080/",
          "height": 364
        }
      },
      "cell_type": "code",
      "source": [
        "W = sess.run(W_conv1)\n",
        "plt.imshow(montage(W / np.max(W)), cmap='coolwarm')"
      ],
      "execution_count": 35,
      "outputs": [
        {
          "output_type": "execute_result",
          "data": {
            "text/plain": [
              "<matplotlib.image.AxesImage at 0x7fe170093da0>"
            ]
          },
          "metadata": {
            "tags": []
          },
          "execution_count": 35
        },
        {
          "output_type": "display_data",
          "data": {
            "image/png": "[encoded data removed]",
            "text/plain": [
              "<Figure size 576x396 with 1 Axes>"
            ]
          },
          "metadata": {
            "tags": []
          }
        }
      ]
    },
    {
      "metadata": {
        "id": "7PKJvxX5Olt7",
        "colab_type": "code",
        "colab": {
          "base_uri": "https://localhost:8080/",
          "height": 366
        },
        "outputId": "2feaece9-b986-4f9b-f790-c7753d3bcdb4"
      },
      "cell_type": "code",
      "source": [
        "W = sess.run(W_conv2)\n",
        "plt.imshow(montage(W / np.max(W)), cmap='coolwarm')"
      ],
      "execution_count": 36,
      "outputs": [
        {
          "output_type": "execute_result",
          "data": {
            "text/plain": [
              "<matplotlib.image.AxesImage at 0x7fe15ffd5710>"
            ]
          },
          "metadata": {
            "tags": []
          },
          "execution_count": 36
        },
        {
          "output_type": "display_data",
          "data": {
            "image/png": "[encoded data removed]",
            "text/plain": [
              "<Figure size 576x396 with 1 Axes>"
            ]
          },
          "metadata": {
            "tags": []
          }
        }
      ]
    },
    {
      "metadata": {
        "id": "LjF7Vx9-F2jz",
        "colab_type": "code",
        "outputId": "23c752d5-19c3-41bf-f596-732acba7a916",
        "colab": {
          "base_uri": "https://localhost:8080/",
          "height": 34
        }
      },
      "cell_type": "code",
      "source": [
        "print(sess.run(accuracy,\n",
        "                   feed_dict={\n",
        "                       x: X_test.reshape(10000, 784),\n",
        "                       y: y_test,\n",
        "                       keep_prob: 0.1\n",
        "                   }))"
      ],
      "execution_count": 41,
      "outputs": [
        {
          "output_type": "stream",
          "text": [
            "0.9809\n"
          ],
          "name": "stdout"
        }
      ]
    },
    {
      "metadata": {
        "id": "XuwgZxu-F7n3",
        "colab_type": "code",
        "colab": {}
      },
      "cell_type": "code",
      "source": [
        ""
      ],
      "execution_count": 0,
      "outputs": []
    }
  ]
}