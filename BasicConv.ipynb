{
  "nbformat": 4,
  "nbformat_minor": 0,
  "metadata": {
    "colab": {
      "name": "BasicConv.ipynb",
      "version": "0.3.2",
      "provenance": [],
      "collapsed_sections": [],
      "include_colab_link": true
    },
    "kernelspec": {
      "name": "python3",
      "display_name": "Python 3"
    },
    "accelerator": "GPU"
  },
  "cells": [
    {
      "cell_type": "markdown",
      "metadata": {
        "id": "view-in-github",
        "colab_type": "text"
      },
      "source": [
        "<a href=\"https://colab.research.google.com/github/mahi97/MahiColabs/blob/master/BasicConv.ipynb\" target=\"_parent\"><img src=\"https://colab.research.google.com/assets/colab-badge.svg\" alt=\"Open In Colab\"/></a>"
      ]
    },
    {
      "metadata": {
        "id": "lJBgpyZ1pJx1",
        "colab_type": "code",
        "colab": {}
      },
      "cell_type": "code",
      "source": [
        "import tensorflow as tf\n",
        "import numpy as np\n",
        "import matplotlib.pyplot as plt\n",
        "import tensorflow.keras.datasets.mnist as mnist"
      ],
      "execution_count": 0,
      "outputs": []
    },
    {
      "metadata": {
        "id": "QoUK0x8wAxjD",
        "colab_type": "code",
        "colab": {}
      },
      "cell_type": "code",
      "source": [
        "def montage_batch(images):\n",
        "    \"\"\"Draws all filters (n_input * n_output filters) as a\n",
        "    montage image separated by 1 pixel borders.\n",
        "    Parameters\n",
        "    ----------\n",
        "    batch : numpy.ndarray\n",
        "        Input array to create montage of.\n",
        "    Returns\n",
        "    -------\n",
        "    m : numpy.ndarray\n",
        "        Montage image.\n",
        "    \"\"\"\n",
        "    img_h = images.shape[1]\n",
        "    img_w = images.shape[2]\n",
        "    n_plots = int(np.ceil(np.sqrt(images.shape[0])))\n",
        "    m = np.ones(\n",
        "        (images.shape[1] * n_plots + n_plots + 1,\n",
        "         images.shape[2] * n_plots + n_plots + 1, 3)) * 0.5\n",
        "\n",
        "    for i in range(n_plots):\n",
        "        for j in range(n_plots):\n",
        "            this_filter = i * n_plots + j\n",
        "            if this_filter < images.shape[0]:\n",
        "                this_img = images[this_filter, ...]\n",
        "                m[1 + i + i * img_h:1 + i + (i + 1) * img_h,\n",
        "                  1 + j + j * img_w:1 + j + (j + 1) * img_w, :] = this_img\n",
        "    return m\n",
        "\n",
        "\n",
        "# %%\n",
        "def montage(W):\n",
        "    \"\"\"Draws all filters (n_input * n_output filters) as a\n",
        "    montage image separated by 1 pixel borders.\n",
        "    Parameters\n",
        "    ----------\n",
        "    W : numpy.ndarray\n",
        "        Input array to create montage of.\n",
        "    Returns\n",
        "    -------\n",
        "    m : numpy.ndarray\n",
        "        Montage image.\n",
        "    \"\"\"\n",
        "    W = np.reshape(W, [W.shape[0], W.shape[1], 1, W.shape[2] * W.shape[3]])\n",
        "    n_plots = int(np.ceil(np.sqrt(W.shape[-1])))\n",
        "    m = np.ones(\n",
        "        (W.shape[0] * n_plots + n_plots + 1,\n",
        "         W.shape[1] * n_plots + n_plots + 1)) * 0.5\n",
        "    for i in range(n_plots):\n",
        "        for j in range(n_plots):\n",
        "            this_filter = i * n_plots + j\n",
        "            if this_filter < W.shape[-1]:\n",
        "                m[1 + i + i * W.shape[0]:1 + i + (i + 1) * W.shape[0],\n",
        "                  1 + j + j * W.shape[1]:1 + j + (j + 1) * W.shape[1]] = (\n",
        "                    np.squeeze(W[:, :, :, this_filter]))\n",
        "    return m\n",
        "\n",
        "\n",
        "\n",
        "\n",
        "# %%\n",
        "def corrupt(x):\n",
        "    \"\"\"Take an input tensor and add uniform masking.\n",
        "    Parameters\n",
        "    ----------\n",
        "    x : Tensor/Placeholder\n",
        "        Input to corrupt.\n",
        "    Returns\n",
        "    -------\n",
        "    x_corrupted : Tensor\n",
        "        50 pct of values corrupted.\n",
        "    \"\"\"\n",
        "    return tf.multiply(x, tf.cast(tf.random_uniform(shape=tf.shape(x),\n",
        "                                               minval=0,\n",
        "                                               maxval=2,\n",
        "                                               dtype=tf.int32), tf.float32))\n",
        "\n",
        "\n",
        "# %%\n",
        "def weight_variable(shape):\n",
        "    '''Helper function to create a weight variable initialized with\n",
        "    a normal distribution\n",
        "    Parameters\n",
        "    ----------\n",
        "    shape : list\n",
        "        Size of weight variable\n",
        "    '''\n",
        "    initial = tf.random_normal(shape, mean=0.0, stddev=0.01)\n",
        "    return tf.Variable(initial)\n",
        "\n",
        "\n",
        "# %%\n",
        "def bias_variable(shape):\n",
        "    '''Helper function to create a bias variable initialized with\n",
        "    a constant value.\n",
        "    Parameters\n",
        "    ----------\n",
        "    shape : list\n",
        "        Size of weight variable\n",
        "    '''\n",
        "    initial = tf.random_normal(shape, mean=0.0, stddev=0.01)\n",
        "    return tf.Variable(initial)"
      ],
      "execution_count": 0,
      "outputs": []
    },
    {
      "metadata": {
        "id": "zTcrsJRApXwp",
        "colab_type": "code",
        "colab": {}
      },
      "cell_type": "code",
      "source": [
        "(X_train, y_train), (X_test, y_test) = mnist.load_data()\n",
        "X_train = X_train / 255\n",
        "X_test = X_test / 255\n",
        "y_test = [[0 == b,\n",
        "                   1 == b,\n",
        "                   2 == b,\n",
        "                   3 == b,\n",
        "                   4 == b,\n",
        "                   5 == b,\n",
        "                   6 == b,\n",
        "                   7 == b,\n",
        "                   8 == b,\n",
        "                   9 == b] for b in y_test]\n",
        "y_train = [[0 == b,\n",
        "                   1 == b,\n",
        "                   2 == b,\n",
        "                   3 == b,\n",
        "                   4 == b,\n",
        "                   5 == b,\n",
        "                   6 == b,\n",
        "                   7 == b,\n",
        "                   8 == b,\n",
        "                   9 == b] for b in y_train]"
      ],
      "execution_count": 0,
      "outputs": []
    },
    {
      "metadata": {
        "id": "Yyq_6_M0rwk-",
        "colab_type": "code",
        "colab": {}
      },
      "cell_type": "code",
      "source": [
        "n_input = 28 * 28\n",
        "n_output = 10\n",
        "x = tf.placeholder(tf.float32, (None, n_input))\n",
        "y = tf.placeholder(tf.float32, [None, n_output])"
      ],
      "execution_count": 0,
      "outputs": []
    },
    {
      "metadata": {
        "id": "w8Ldam3M_aqf",
        "colab_type": "code",
        "colab": {}
      },
      "cell_type": "code",
      "source": [
        "x_tensor = tf.reshape(x, [-1, 28, 28, 1])"
      ],
      "execution_count": 0,
      "outputs": []
    },
    {
      "metadata": {
        "id": "8OoNW2yF_oO4",
        "colab_type": "code",
        "colab": {
          "base_uri": "https://localhost:8080/",
          "height": 93
        },
        "outputId": "f1a6fa64-1f0f-45eb-e97f-67d71f4d7903"
      },
      "cell_type": "code",
      "source": [
        "filter_size = 5\n",
        "n_filter_1 = 16\n",
        "W_conv1 = weight_variable([filter_size, filter_size, 1, n_filter_1])"
      ],
      "execution_count": 6,
      "outputs": [
        {
          "output_type": "stream",
          "text": [
            "WARNING:tensorflow:From /usr/local/lib/python3.6/dist-packages/tensorflow/python/framework/op_def_library.py:263: colocate_with (from tensorflow.python.framework.ops) is deprecated and will be removed in a future version.\n",
            "Instructions for updating:\n",
            "Colocations handled automatically by placer.\n"
          ],
          "name": "stdout"
        }
      ]
    },
    {
      "metadata": {
        "id": "6qN-6ZX5A7Es",
        "colab_type": "code",
        "colab": {}
      },
      "cell_type": "code",
      "source": [
        "b_conv1 = bias_variable([n_filter_1])"
      ],
      "execution_count": 0,
      "outputs": []
    },
    {
      "metadata": {
        "id": "tYLKPjRVBQag",
        "colab_type": "code",
        "colab": {}
      },
      "cell_type": "code",
      "source": [
        "h_conv1 = tf.nn.relu(tf.nn.conv2d(input=x_tensor,\n",
        "                                 filter=W_conv1,\n",
        "                                 strides=[1, 2, 2, 1],\n",
        "                                 padding='SAME') + b_conv1)"
      ],
      "execution_count": 0,
      "outputs": []
    },
    {
      "metadata": {
        "id": "BVM9sRs1Bw5y",
        "colab_type": "code",
        "colab": {}
      },
      "cell_type": "code",
      "source": [
        "n_filter_2 = 16\n",
        "W_conv2 = weight_variable([filter_size, filter_size, n_filter_1, n_filter_2])\n",
        "b_conv2 = bias_variable([n_filter_2])\n",
        "h_conv2 = tf.nn.relu(tf.nn.conv2d(input=h_conv1, filter=W_conv2,\n",
        "                                 strides=[1, 2, 2, 1],\n",
        "                                 padding='SAME') + b_conv2)\n"
      ],
      "execution_count": 0,
      "outputs": []
    },
    {
      "metadata": {
        "id": "VVbsc_xxDBo7",
        "colab_type": "code",
        "colab": {}
      },
      "cell_type": "code",
      "source": [
        "h_conv2_flat = tf.reshape(h_conv2, [-1, 7 * 7 * n_filter_2])"
      ],
      "execution_count": 0,
      "outputs": []
    },
    {
      "metadata": {
        "id": "My9G7FCODLMw",
        "colab_type": "code",
        "colab": {}
      },
      "cell_type": "code",
      "source": [
        "n_fc = 1024\n",
        "W_fc1 = weight_variable([7 * 7 * n_filter_2, n_fc])\n",
        "b_fc1 = bias_variable([n_fc])\n",
        "h_fc1 = tf.nn.relu(tf.matmul(h_conv2_flat, W_fc1) + b_fc1)"
      ],
      "execution_count": 0,
      "outputs": []
    },
    {
      "metadata": {
        "id": "SPGJoWHuDip7",
        "colab_type": "code",
        "colab": {}
      },
      "cell_type": "code",
      "source": [
        "keep_prob = tf.placeholder(tf.float32)\n",
        "h_fc1_drop = tf.nn.dropout(h_fc1, rate=1-keep_prob)"
      ],
      "execution_count": 0,
      "outputs": []
    },
    {
      "metadata": {
        "id": "dfYcFx5iDwZY",
        "colab_type": "code",
        "colab": {}
      },
      "cell_type": "code",
      "source": [
        "W_fc2 = weight_variable([n_fc, 10])\n",
        "b_fc2 = bias_variable([10])\n",
        "y_pred = tf.nn.softmax(tf.matmul(h_fc1_drop, W_fc2) + b_fc2)"
      ],
      "execution_count": 0,
      "outputs": []
    },
    {
      "metadata": {
        "id": "WrNAjJ86ETrs",
        "colab_type": "code",
        "colab": {}
      },
      "cell_type": "code",
      "source": [
        "cross_entropy = -tf.reduce_sum(y * tf.log(y_pred))\n",
        "optimzer = tf.train.AdamOptimizer().minimize(cross_entropy)"
      ],
      "execution_count": 0,
      "outputs": []
    },
    {
      "metadata": {
        "id": "pgyPldrKElwE",
        "colab_type": "code",
        "colab": {}
      },
      "cell_type": "code",
      "source": [
        "correct_prediction = tf.equal(tf.argmax(y_pred, 1), tf.argmax(y, 1))\n",
        "accuracy = tf.reduce_mean(tf.cast(correct_prediction, tf.float32))"
      ],
      "execution_count": 0,
      "outputs": []
    },
    {
      "metadata": {
        "id": "vQIxVCGrEzZq",
        "colab_type": "code",
        "colab": {}
      },
      "cell_type": "code",
      "source": [
        "sess = tf.Session()\n",
        "sess.run(tf.global_variables_initializer())"
      ],
      "execution_count": 0,
      "outputs": []
    },
    {
      "metadata": {
        "id": "tCXM16D8E360",
        "colab_type": "code",
        "outputId": "0ca151a8-8a05-4e2f-f3cf-aa9361f28a39",
        "colab": {
          "base_uri": "https://localhost:8080/",
          "height": 1057
        }
      },
      "cell_type": "code",
      "source": [
        "# %% We'll train in minibatches and report accuracy:\n",
        "batch_size = 2000\n",
        "n_epochs = 15\n",
        "for epoch_i in range(n_epochs):\n",
        "    print(epoch_i)\n",
        "    print(sess.run(W_conv1[0][0]))\n",
        "    for batch_i in range(X_train.shape[0] // batch_size):\n",
        "      batch_xs = X_train[batch_i * batch_size: (batch_i + 1) * batch_size].reshape(batch_size,784)\n",
        "      batch_ys = y_train[batch_i * batch_size: (batch_i + 1) * batch_size]\n",
        "      sess.run(optimzer, feed_dict={\n",
        "          x: batch_xs,\n",
        "          y: batch_ys,\n",
        "          keep_prob: 0.5})"
      ],
      "execution_count": 17,
      "outputs": [
        {
          "output_type": "stream",
          "text": [
            "0\n",
            "[[ 0.00507283 -0.00269648  0.00412116  0.00309399  0.00324499 -0.00136309\n",
            "   0.00467365 -0.00907443  0.02322942  0.01928053  0.00311181  0.0123429\n",
            "   0.00264936 -0.0127928   0.01786472  0.00543135]]\n",
            "1\n",
            "[[0.03186198 0.02561832 0.0320567  0.02916002 0.02978736 0.0246903\n",
            "  0.01890924 0.01719689 0.05219114 0.04772457 0.03211416 0.03751492\n",
            "  0.0306192  0.0105187  0.04679749 0.03310122]]\n",
            "2\n",
            "[[0.03247388 0.02584895 0.03661871 0.03465554 0.03103321 0.02617758\n",
            "  0.00023122 0.01883904 0.05669548 0.05297622 0.03462866 0.03867792\n",
            "  0.02804921 0.00975788 0.04906905 0.03477598]]\n",
            "3\n",
            "[[ 0.03063766  0.02362281  0.03862723  0.03719939  0.02947689  0.0245999\n",
            "  -0.00972312  0.01713319  0.0577906   0.05517092  0.03393043  0.03696658\n",
            "   0.02424413  0.00735778  0.04814072  0.03399305]]\n",
            "4\n",
            "[[ 0.02944915  0.02209787  0.04095571  0.03974873  0.02854089  0.02345484\n",
            "  -0.01571537  0.01571336  0.05906639  0.05743384  0.03341165  0.03602926\n",
            "   0.02115533  0.00588435  0.04758027  0.03369556]]\n",
            "5\n",
            "[[ 0.02819758  0.02044654  0.04318209  0.04208341  0.02758532  0.02220525\n",
            "  -0.02141122  0.01415698  0.06019926  0.05944926  0.03267365  0.03515386\n",
            "   0.0180586   0.00447967  0.04701617  0.03333002]]\n",
            "6\n",
            "[[ 0.02670773  0.01860831  0.045167    0.04408481  0.02646449  0.02082272\n",
            "  -0.0270334   0.01244439  0.06106093  0.06119282  0.03165223  0.03411625\n",
            "   0.01478773  0.00283917  0.04627381  0.03273061]]\n",
            "7\n",
            "[[ 0.0255379   0.01701927  0.04702331  0.04596713  0.02558945  0.01970427\n",
            "  -0.03202035  0.01106154  0.06188282  0.06274203  0.03081474  0.03338207\n",
            "   0.0120333   0.00144967  0.04570356  0.03224405]]\n",
            "8\n",
            "[[ 0.02393461  0.01493284  0.04836446  0.04733992  0.02431394  0.01818296\n",
            "  -0.03726295  0.00922613  0.06233281  0.06367993  0.02953169  0.03225207\n",
            "   0.00878224 -0.00048816  0.04487224  0.03141853]]\n",
            "9\n",
            "[[ 0.02277228  0.01331885  0.04973965  0.04878919  0.02337944  0.01704181\n",
            "  -0.04201418  0.00782133  0.06288974  0.06465186  0.02856242  0.03148385\n",
            "   0.00621858 -0.00200617  0.04432769  0.03091514]]\n",
            "10\n",
            "[[ 0.02164878  0.01168006  0.05075924  0.04993664  0.02255133  0.01601743\n",
            "  -0.04617846  0.00651323  0.06333283  0.06522635  0.02762187  0.03080392\n",
            "   0.00400134 -0.00336897  0.0439265   0.03066793]]\n",
            "11\n",
            "[[ 0.02061953  0.01019506  0.05168125  0.05099525  0.02178316  0.01507929\n",
            "  -0.05025198  0.00533506  0.06375216  0.06580862  0.02679254  0.0301829\n",
            "   0.00196253 -0.00482566  0.04349863  0.03030597]]\n",
            "12\n",
            "[[ 0.01911002  0.00822073  0.05219733  0.05166992  0.02059074  0.01373942\n",
            "  -0.05499832  0.00367973  0.0638075   0.06595262  0.02556397  0.02907178\n",
            "  -0.00070621 -0.00680846  0.04270709  0.02953178]]\n",
            "13\n",
            "[[ 0.01801961  0.0066789   0.0528266   0.0524424   0.01977707  0.01277269\n",
            "  -0.05885246  0.00242874  0.06400864  0.06626335  0.02467576  0.02831604\n",
            "  -0.0027873  -0.00849578  0.04221993  0.02897046]]\n",
            "14\n",
            "[[ 0.01705242  0.00526606  0.0536445   0.05341978  0.01904414  0.01189777\n",
            "  -0.06288262  0.00128873  0.06437543  0.0667169   0.0239249   0.02766719\n",
            "  -0.00469171 -0.00992266  0.04182246  0.02856805]]\n"
          ],
          "name": "stdout"
        }
      ]
    },
    {
      "metadata": {
        "id": "hFJxoqn6FVqC",
        "colab_type": "code",
        "outputId": "0f5fba7b-bce6-4499-e36a-4024772091a4",
        "colab": {
          "base_uri": "https://localhost:8080/",
          "height": 364
        }
      },
      "cell_type": "code",
      "source": [
        "W = sess.run(W_conv1)\n",
        "plt.imshow(montage(W / np.max(W)), cmap='coolwarm')"
      ],
      "execution_count": 22,
      "outputs": [
        {
          "output_type": "execute_result",
          "data": {
            "text/plain": [
              "<matplotlib.image.AxesImage at 0x7f92e0073f28>"
            ]
          },
          "metadata": {
            "tags": []
          },
          "execution_count": 22
        },
        {
          "output_type": "display_data",
          "data": {
            "image/png": "[encoded data removed]",
            "text/plain": [
              "<Figure size 576x396 with 1 Axes>"
            ]
          },
          "metadata": {
            "tags": []
          }
        }
      ]
    },
    {
      "metadata": {
        "id": "7PKJvxX5Olt7",
        "colab_type": "code",
        "colab": {
          "base_uri": "https://localhost:8080/",
          "height": 366
        },
        "outputId": "fd6ccc0f-b094-48cd-be83-4a61ccf896a8"
      },
      "cell_type": "code",
      "source": [
        "W = sess.run(W_conv2)\n",
        "plt.imshow(montage(W / np.max(W)), cmap='coolwarm')"
      ],
      "execution_count": 20,
      "outputs": [
        {
          "output_type": "execute_result",
          "data": {
            "text/plain": [
              "<matplotlib.image.AxesImage at 0x7f92e00c49b0>"
            ]
          },
          "metadata": {
            "tags": []
          },
          "execution_count": 20
        },
        {
          "output_type": "display_data",
          "data": {
            "image/png": "[encoded data removed]",
            "text/plain": [
              "<Figure size 576x396 with 1 Axes>"
            ]
          },
          "metadata": {
            "tags": []
          }
        }
      ]
    },
    {
      "metadata": {
        "id": "LjF7Vx9-F2jz",
        "colab_type": "code",
        "outputId": "5cf870a0-00da-42f9-d6a5-efd94d8e06ec",
        "colab": {
          "base_uri": "https://localhost:8080/",
          "height": 34
        }
      },
      "cell_type": "code",
      "source": [
        "print(sess.run(accuracy,\n",
        "                   feed_dict={\n",
        "                       x: X_test.reshape(10000, 784),\n",
        "                       y: y_test,\n",
        "                       keep_prob: 1.0\n",
        "                   }))"
      ],
      "execution_count": 19,
      "outputs": [
        {
          "output_type": "stream",
          "text": [
            "0.9785\n"
          ],
          "name": "stdout"
        }
      ]
    },
    {
      "metadata": {
        "id": "XuwgZxu-F7n3",
        "colab_type": "code",
        "colab": {}
      },
      "cell_type": "code",
      "source": [
        ""
      ],
      "execution_count": 0,
      "outputs": []
    }
  ]
}