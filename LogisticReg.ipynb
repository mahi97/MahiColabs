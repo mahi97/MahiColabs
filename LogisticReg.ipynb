{
  "nbformat": 4,
  "nbformat_minor": 0,
  "metadata": {
    "colab": {
      "name": "LogisticReg.ipynb",
      "version": "0.3.2",
      "provenance": [],
      "collapsed_sections": [],
      "include_colab_link": true
    },
    "kernelspec": {
      "name": "python3",
      "display_name": "Python 3"
    },
    "accelerator": "TPU"
  },
  "cells": [
    {
      "cell_type": "markdown",
      "metadata": {
        "id": "view-in-github",
        "colab_type": "text"
      },
      "source": [
        "<a href=\"https://colab.research.google.com/github/mahi97/MahiColabs/blob/master/LogisticReg.ipynb\" target=\"_parent\"><img src=\"https://colab.research.google.com/assets/colab-badge.svg\" alt=\"Open In Colab\"/></a>"
      ]
    },
    {
      "metadata": {
        "id": "lJBgpyZ1pJx1",
        "colab_type": "code",
        "colab": {}
      },
      "cell_type": "code",
      "source": [
        "import tensorflow as tf\n",
        "import numpy as np\n",
        "import matplotlib.pyplot as plt\n",
        "import tensorflow.keras.datasets.mnist as mnist"
      ],
      "execution_count": 0,
      "outputs": []
    },
    {
      "metadata": {
        "id": "zTcrsJRApXwp",
        "colab_type": "code",
        "colab": {}
      },
      "cell_type": "code",
      "source": [
        "(X_train, y_train), (X_test, y_test) = mnist.load_data()\n",
        "X_train = X_train / 255\n",
        "X_test = X_test / 255\n",
        "y_test = [[0 == b,\n",
        "                   1 == b,\n",
        "                   2 == b,\n",
        "                   3 == b,\n",
        "                   4 == b,\n",
        "                   5 == b,\n",
        "                   6 == b,\n",
        "                   7 == b,\n",
        "                   8 == b,\n",
        "                   9 == b] for b in y_test]\n",
        "y_train = [[0 == b,\n",
        "                   1 == b,\n",
        "                   2 == b,\n",
        "                   3 == b,\n",
        "                   4 == b,\n",
        "                   5 == b,\n",
        "                   6 == b,\n",
        "                   7 == b,\n",
        "                   8 == b,\n",
        "                   9 == b] for b in y_train]"
      ],
      "execution_count": 0,
      "outputs": []
    },
    {
      "metadata": {
        "id": "rgstFKcOqyvS",
        "colab_type": "code",
        "outputId": "bf37e0ac-2a4b-4977-97ba-6742e6600a34",
        "colab": {
          "base_uri": "https://localhost:8080/",
          "height": 76
        }
      },
      "cell_type": "code",
      "source": [
        "print(X_train.shape, y_train[:10])\n",
        "print(np.min(X_train), np.max(X_train))"
      ],
      "execution_count": 48,
      "outputs": [
        {
          "output_type": "stream",
          "text": [
            "(60000, 28, 28) [[False, False, False, False, False, True, False, False, False, False], [True, False, False, False, False, False, False, False, False, False], [False, False, False, False, True, False, False, False, False, False], [False, True, False, False, False, False, False, False, False, False], [False, False, False, False, False, False, False, False, False, True], [False, False, True, False, False, False, False, False, False, False], [False, True, False, False, False, False, False, False, False, False], [False, False, False, True, False, False, False, False, False, False], [False, True, False, False, False, False, False, False, False, False], [False, False, False, False, True, False, False, False, False, False]]\n",
            "0.0 1.0\n"
          ],
          "name": "stdout"
        }
      ]
    },
    {
      "metadata": {
        "id": "gCxdaxZqrEG_",
        "colab_type": "code",
        "outputId": "2c9d6131-7ce2-45dd-95ea-fe7bd1a854bb",
        "colab": {
          "base_uri": "https://localhost:8080/",
          "height": 364
        }
      },
      "cell_type": "code",
      "source": [
        "plt.imshow(X_train[np.random.randint(0, X_train.shape[0])], cmap='gray')"
      ],
      "execution_count": 49,
      "outputs": [
        {
          "output_type": "execute_result",
          "data": {
            "text/plain": [
              "<matplotlib.image.AxesImage at 0x7f0b931b7278>"
            ]
          },
          "metadata": {
            "tags": []
          },
          "execution_count": 49
        },
        {
          "output_type": "display_data",
          "data": {
            "image/png": "[encoded data removed]",
            "text/plain": [
              "<Figure size 576x396 with 1 Axes>"
            ]
          },
          "metadata": {
            "tags": []
          }
        }
      ]
    },
    {
      "metadata": {
        "id": "Yyq_6_M0rwk-",
        "colab_type": "code",
        "colab": {}
      },
      "cell_type": "code",
      "source": [
        "n_input = 28 * 28\n",
        "n_output = 10\n",
        "net_input = tf.placeholder(tf.float32, (None, n_input))"
      ],
      "execution_count": 0,
      "outputs": []
    },
    {
      "metadata": {
        "id": "S6H5Jni_sGpx",
        "colab_type": "code",
        "colab": {}
      },
      "cell_type": "code",
      "source": [
        "W = tf.Variable(tf.random_normal([n_input, n_output]))\n",
        "b = tf.Variable(tf.random_normal([n_output]))\n",
        "net_output = tf.nn.softmax(tf.matmul(net_input, W) + b)"
      ],
      "execution_count": 0,
      "outputs": []
    },
    {
      "metadata": {
        "id": "MWynTWh7sx1e",
        "colab_type": "code",
        "colab": {}
      },
      "cell_type": "code",
      "source": [
        "y_true = tf.placeholder(tf.float32, [None, 10])"
      ],
      "execution_count": 0,
      "outputs": []
    },
    {
      "metadata": {
        "id": "DCiqJ21ys3vN",
        "colab_type": "code",
        "colab": {}
      },
      "cell_type": "code",
      "source": [
        "cross_entropy = -(tf.reduce_sum(y_true * tf.log(net_output)))"
      ],
      "execution_count": 0,
      "outputs": []
    },
    {
      "metadata": {
        "id": "XqiJLQJZtSzG",
        "colab_type": "code",
        "colab": {}
      },
      "cell_type": "code",
      "source": [
        "correct_prediction = tf.equal(tf.argmax(net_output, 1),\n",
        "                              tf.argmax(y_true, 1))"
      ],
      "execution_count": 0,
      "outputs": []
    },
    {
      "metadata": {
        "id": "HtT-OrXQtjNL",
        "colab_type": "code",
        "colab": {}
      },
      "cell_type": "code",
      "source": [
        "accuracy = tf.reduce_mean(tf.cast(correct_prediction, 'float'))"
      ],
      "execution_count": 0,
      "outputs": []
    },
    {
      "metadata": {
        "id": "Fw4Y3PK6tp0L",
        "colab_type": "code",
        "colab": {}
      },
      "cell_type": "code",
      "source": [
        "optimizer = tf.train.GradientDescentOptimizer(0.01).minimize(cross_entropy)"
      ],
      "execution_count": 0,
      "outputs": []
    },
    {
      "metadata": {
        "id": "pjUYnMtruqR1",
        "colab_type": "code",
        "colab": {}
      },
      "cell_type": "code",
      "source": [
        "sess = tf.Session()\n",
        "sess.run(tf.global_variables_initializer())"
      ],
      "execution_count": 0,
      "outputs": []
    },
    {
      "metadata": {
        "id": "bwRSdA67tznh",
        "colab_type": "code",
        "outputId": "58d3b2d1-aa0b-497d-c9cf-951115425a1c",
        "colab": {
          "base_uri": "https://localhost:8080/",
          "height": 187
        }
      },
      "cell_type": "code",
      "source": [
        "batch_size = 100\n",
        "n_epochs = 10\n",
        "for epochs_i in range(n_epochs):\n",
        "    print(epochs_i)\n",
        "    for batch_i in range(X_train.shape[0] // batch_size):\n",
        "      batch_xs = X_train[batch_i * batch_size: (batch_i + 1) * batch_size].reshape(batch_size,784)\n",
        "      batch_ys = y_train[batch_i * batch_size: (batch_i + 1) * batch_size]\n",
        "      sess.run(optimizer, feed_dict={\n",
        "          net_input: batch_xs,\n",
        "          y_true: batch_ys\n",
        "      })\n",
        "      \n",
        "\n"
      ],
      "execution_count": 111,
      "outputs": [
        {
          "output_type": "stream",
          "text": [
            "0\n",
            "1\n",
            "2\n",
            "3\n",
            "4\n",
            "5\n",
            "6\n",
            "7\n",
            "8\n",
            "9\n"
          ],
          "name": "stdout"
        }
      ]
    },
    {
      "metadata": {
        "id": "dCgC3feQyXYh",
        "colab_type": "code",
        "outputId": "2573d5c4-a34f-4b86-8a4e-e825cf8ab8e4",
        "colab": {
          "base_uri": "https://localhost:8080/",
          "height": 34
        }
      },
      "cell_type": "code",
      "source": [
        "    print(sess.run(accuracy,\n",
        "                  feed_dict={\n",
        "                      net_input: X_test.reshape(10000,784),\n",
        "                      y_true: y_test\n",
        "                  }))"
      ],
      "execution_count": 112,
      "outputs": [
        {
          "output_type": "stream",
          "text": [
            "0.9024\n"
          ],
          "name": "stdout"
        }
      ]
    },
    {
      "metadata": {
        "id": "Xz4y_etVxy4r",
        "colab_type": "code",
        "colab": {}
      },
      "cell_type": "code",
      "source": [
        "tester = tf.argmax(net_output, 1)"
      ],
      "execution_count": 0,
      "outputs": []
    },
    {
      "metadata": {
        "id": "MRO0jaYf7QH9",
        "colab_type": "code",
        "colab": {
          "base_uri": "https://localhost:8080/",
          "height": 381
        },
        "outputId": "9ee8d55a-47ee-43c8-9b9f-05613bde94bc"
      },
      "cell_type": "code",
      "source": [
        "  rr = np.random.randint(0, X_test.shape[0])  \n",
        "  print(sess.run(tester,\n",
        "                  feed_dict={\n",
        "                      net_input: X_test[rr].reshape(1,784)\n",
        "                  }))\n",
        "  \n",
        "  plt.imshow(X_test[rr], cmap='gray')"
      ],
      "execution_count": 129,
      "outputs": [
        {
          "output_type": "stream",
          "text": [
            "[4]\n"
          ],
          "name": "stdout"
        },
        {
          "output_type": "execute_result",
          "data": {
            "text/plain": [
              "<matplotlib.image.AxesImage at 0x7f0b82ce1400>"
            ]
          },
          "metadata": {
            "tags": []
          },
          "execution_count": 129
        },
        {
          "output_type": "display_data",
          "data": {
            "image/png": "[encoded data removed]",
            "text/plain": [
              "<Figure size 576x396 with 1 Axes>"
            ]
          },
          "metadata": {
            "tags": []
          }
        }
      ]
    },
    {
      "metadata": {
        "id": "LfFtUXIf7yR2",
        "colab_type": "code",
        "colab": {}
      },
      "cell_type": "code",
      "source": [
        ""
      ],
      "execution_count": 0,
      "outputs": []
    }
  ]
}