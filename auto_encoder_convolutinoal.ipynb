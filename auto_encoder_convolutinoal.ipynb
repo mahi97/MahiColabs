{
  "nbformat": 4,
  "nbformat_minor": 0,
  "metadata": {
    "colab": {
      "name": "auto_encoder_convolutinoal.ipynb",
      "version": "0.3.2",
      "provenance": [],
      "collapsed_sections": [],
      "include_colab_link": true
    },
    "kernelspec": {
      "name": "python3",
      "display_name": "Python 3"
    },
    "accelerator": "GPU"
  },
  "cells": [
    {
      "cell_type": "markdown",
      "metadata": {
        "id": "view-in-github",
        "colab_type": "text"
      },
      "source": [
        "<a href=\"https://colab.research.google.com/github/mahi97/MahiColabs/blob/master/auto_encoder_convolutinoal.ipynb\" target=\"_parent\"><img src=\"https://colab.research.google.com/assets/colab-badge.svg\" alt=\"Open In Colab\"/></a>"
      ]
    },
    {
      "metadata": {
        "id": "ECWehlvBoPgO",
        "colab_type": "code",
        "colab": {
          "base_uri": "https://localhost:8080/",
          "height": 212
        },
        "outputId": "e4b6b773-f0bb-4a66-f617-04b36f56e43d"
      },
      "cell_type": "code",
      "source": [
        "!pip install keras\n",
        "import tensorflow as tf\n",
        "import math\n",
        "import matplotlib.pyplot as plt\n",
        "import numpy as np"
      ],
      "execution_count": 2,
      "outputs": [
        {
          "output_type": "stream",
          "text": [
            "Requirement already satisfied: keras in /usr/local/lib/python3.6/dist-packages (2.2.4)\n",
            "Requirement already satisfied: numpy>=1.9.1 in /usr/local/lib/python3.6/dist-packages (from keras) (1.14.6)\n",
            "Requirement already satisfied: keras-preprocessing>=1.0.5 in /usr/local/lib/python3.6/dist-packages (from keras) (1.0.9)\n",
            "Requirement already satisfied: scipy>=0.14 in /usr/local/lib/python3.6/dist-packages (from keras) (1.1.0)\n",
            "Requirement already satisfied: six>=1.9.0 in /usr/local/lib/python3.6/dist-packages (from keras) (1.11.0)\n",
            "Requirement already satisfied: pyyaml in /usr/local/lib/python3.6/dist-packages (from keras) (3.13)\n",
            "Requirement already satisfied: keras-applications>=1.0.6 in /usr/local/lib/python3.6/dist-packages (from keras) (1.0.7)\n",
            "Requirement already satisfied: h5py in /usr/local/lib/python3.6/dist-packages (from keras) (2.8.0)\n"
          ],
          "name": "stdout"
        }
      ]
    },
    {
      "metadata": {
        "id": "4J0R42MF5aZ1",
        "colab_type": "code",
        "colab": {}
      },
      "cell_type": "code",
      "source": [
        "def corrupt(x):\n",
        "    \"\"\"Take an input tensor and add uniform masking.\n",
        "    Parameters\n",
        "    ----------\n",
        "    x : Tensor/Placeholder\n",
        "        Input to corrupt.\n",
        "    Returns\n",
        "    -------\n",
        "    x_corrupted : Tensor\n",
        "        50 pct of values corrupted.\n",
        "    \"\"\"\n",
        "    return tf.multiply(x, tf.cast(tf.random_uniform(shape=tf.shape(x),\n",
        "                                               minval=0,\n",
        "                                               maxval=2,\n",
        "                                               dtype=tf.int32), tf.float64))"
      ],
      "execution_count": 0,
      "outputs": []
    },
    {
      "metadata": {
        "id": "pxbT4BJW8ZzX",
        "colab_type": "code",
        "colab": {}
      },
      "cell_type": "code",
      "source": [
        "def lrelu(x, leak=0.2, name=\"lrelu\"):\n",
        "    \"\"\"Leaky rectifier.\n",
        "    Parameters\n",
        "    ----------\n",
        "    x : Tensor\n",
        "        The tensor to apply the nonlinearity to.\n",
        "    leak : float, optional\n",
        "        Leakage parameter.\n",
        "    name : str, optional\n",
        "        Variable scope to use.\n",
        "    Returns\n",
        "    -------\n",
        "    x : Tensor\n",
        "        Output of the nonlinearity.\n",
        "    \"\"\"\n",
        "    with tf.variable_scope(name):\n",
        "        f1 = 0.5 * (1 + leak)\n",
        "        f2 = 0.5 * (1 - leak)\n",
        "        return f1 * x + f2 * abs(x)"
      ],
      "execution_count": 0,
      "outputs": []
    },
    {
      "metadata": {
        "id": "4rDGaA8AqDrZ",
        "colab_type": "code",
        "colab": {}
      },
      "cell_type": "code",
      "source": [
        "def autoencoder(input_shape=[None, 784],\n",
        "                n_filters=[1, 10, 10, 10],\n",
        "                filter_sizes=[3, 3, 3, 3],\n",
        "                corruption=False):\n",
        "  x = tf.placeholder(tf.float64, input_shape, name='x')\n",
        "  \n",
        "  # Probability that we will corrupt input.\n",
        "  # This is the essence of the denoising autoencoder, and is pretty\n",
        "  # basic.  We'll feed forward a noisy input, allowing our network\n",
        "  # to generalize better, possibly, to occlusions of what we're\n",
        "  # really interested in.  But to measure accuracy, we'll still\n",
        "  # enforce a training signal which measures the original image's\n",
        "  # reconstruction cost.\n",
        "  #\n",
        "  # We'll change this to 1 during training\n",
        "  # but when we're ready for testing/production ready environments,\n",
        "  # we'll put it back to 0.\n",
        "  corrupt_prob = tf.placeholder(tf.float64, [1])\n",
        "  if corruption:\n",
        "    x_noise = corrupt(x)\n",
        "  else:\n",
        "    x_noise = x\n",
        "\n",
        "  if len(x.get_shape()) == 2:\n",
        "    x_dim = np.sqrt(x_noise.get_shape().as_list()[1])\n",
        "    if x_dim != int(x_dim):\n",
        "      raise ValueError('Unsupported input dimensions')\n",
        "    x_dim = int(x_dim)\n",
        "    x_tensor = tf.reshape(x_noise, [-1, x_dim, x_dim, n_filters[0]])\n",
        "  elif len(x_noise.get_shape()) == 4:\n",
        "    x_tensor = x_noise\n",
        "  else:\n",
        "    raise ValueError('Unsupported input dimensions')\n",
        "\n",
        "  current_input = x_tensor;\n",
        "    \n",
        "  encoder = []\n",
        "  shapes = []\n",
        "  for layer_i, n_output in enumerate(n_filters[1:]):\n",
        "      n_input = current_input.get_shape().as_list()[3]\n",
        "      shapes.append(current_input.get_shape().as_list())\n",
        "      W = tf.Variable(\n",
        "          tf.random_uniform([\n",
        "              filter_sizes[layer_i], \n",
        "              filter_sizes[layer_i],\n",
        "              n_input, n_output],\n",
        "                            -1.0 / math.sqrt(n_input),\n",
        "                            1.0 / math.sqrt(n_input), dtype=tf.float64))\n",
        "      b = tf.Variable(tf.zeros([n_output], dtype=tf.float64))\n",
        "      encoder.append(W)\n",
        "      output = lrelu(\n",
        "          tf.add(\n",
        "          tf.nn.conv2d(\n",
        "              current_input, W, strides=[1,2,2,1], padding='SAME'),\n",
        "              b)\n",
        "      )\n",
        "      \n",
        "      current_input = output\n",
        "\n",
        "  # %% latent representation\n",
        "  z = current_input\n",
        "  encoder.reverse()\n",
        "  shapes.reverse()\n",
        "  # %% Build the decoder using the same weights\n",
        "  for layer_i, shape in enumerate(shapes):\n",
        "      W = encoder[layer_i] # tf.transpose(encoder[layer_i])\n",
        "      b = tf.Variable(tf.zeros([W.get_shape().as_list()[2]], dtype=tf.float64))\n",
        "      output = lrelu(\n",
        "        tf.add(\n",
        "          tf.nn.conv2d_transpose(\n",
        "              current_input, W,\n",
        "              tf.stack([tf.shape(x)[0], shape[1], shape[2], shape[3]]),\n",
        "              strides=[1, 2, 2, 1], padding='SAME'\n",
        "          ), \n",
        "          b\n",
        "        )\n",
        "      )\n",
        "      current_input = output\n",
        "\n",
        "  # %% now have the reconstruction through the network\n",
        "  y = current_input\n",
        "\n",
        "  # %% cost function measures pixel-wise difference\n",
        "  cost = tf.reduce_sum(tf.square(y - x_tensor))\n",
        "  return {'x': x, 'z': z, 'y': y, 'cost': cost}"
      ],
      "execution_count": 0,
      "outputs": []
    },
    {
      "metadata": {
        "id": "IAs-uXvir6QH",
        "colab_type": "code",
        "colab": {
          "base_uri": "https://localhost:8080/",
          "height": 76
        },
        "outputId": "0e3de5d9-b311-4e41-bc3e-df73475166b0"
      },
      "cell_type": "code",
      "source": [
        "import tensorflow.keras.datasets.mnist as mnist\n",
        "(X_train, y_train), (X_test, y_test) = mnist.load_data()\n",
        "X_train = X_train / 255.0\n",
        "X_test = X_test / 255.0\n",
        "y_test = [[0 == b,\n",
        "                   1 == b,\n",
        "                   2 == b,\n",
        "                   3 == b,\n",
        "                   4 == b,\n",
        "                   5 == b,\n",
        "                   6 == b,\n",
        "                   7 == b,\n",
        "                   8 == b,\n",
        "                   9 == b] for b in y_test]\n",
        "y_train = [[0 == b,\n",
        "                   1 == b,\n",
        "                   2 == b,\n",
        "                   3 == b,\n",
        "                   4 == b,\n",
        "                   5 == b,\n",
        "                   6 == b,\n",
        "                   7 == b,\n",
        "                   8 == b,\n",
        "                   9 == b] for b in y_train]"
      ],
      "execution_count": 6,
      "outputs": [
        {
          "output_type": "stream",
          "text": [
            "Downloading data from https://storage.googleapis.com/tensorflow/tf-keras-datasets/mnist.npz\n",
            "11493376/11490434 [==============================] - 0s 0us/step\n"
          ],
          "name": "stdout"
        }
      ]
    },
    {
      "metadata": {
        "id": "wuOG0TPlsWXr",
        "colab_type": "code",
        "outputId": "e5f53265-ed30-40d7-eb36-55386da591e0",
        "colab": {
          "base_uri": "https://localhost:8080/",
          "height": 98
        }
      },
      "cell_type": "code",
      "source": [
        "\"\"\"Test the autoencoder using MNIST.\"\"\"\n",
        "mean_img = np.mean(X_train, axis=0)\n",
        "ae = autoencoder()\n",
        "\n",
        "# %%\n",
        "learning_rate = 0.001\n",
        "optimizer = tf.train.AdamOptimizer(learning_rate).minimize(ae['cost'])\n",
        "\n",
        "# %%\n",
        "# We create a session to use the graph\n",
        "sess = tf.Session()\n",
        "sess.run(tf.global_variables_initializer())"
      ],
      "execution_count": 7,
      "outputs": [
        {
          "output_type": "stream",
          "text": [
            "WARNING:tensorflow:From /usr/local/lib/python3.6/dist-packages/tensorflow/python/framework/op_def_library.py:263: colocate_with (from tensorflow.python.framework.ops) is deprecated and will be removed in a future version.\n",
            "Instructions for updating:\n",
            "Colocations handled automatically by placer.\n"
          ],
          "name": "stdout"
        }
      ]
    },
    {
      "metadata": {
        "id": "V-fxMI8nzp8W",
        "colab_type": "code",
        "outputId": "4e05ee9f-2696-4e1b-bbc8-8681d32ead62",
        "colab": {
          "base_uri": "https://localhost:8080/",
          "height": 187
        }
      },
      "cell_type": "code",
      "source": [
        "# %%\n",
        "# Fit all training data\n",
        "batch_size = 100\n",
        "n_epochs = 10\n",
        "for epoch_i in range(n_epochs):\n",
        "    for batch_i in range(X_train.shape[0] // batch_size):\n",
        "      batch_xs = X_train[batch_i * batch_size: (batch_i + 1) * batch_size]\n",
        "      train = np.array([img - mean_img for img in batch_xs]).reshape(batch_size,784)\n",
        "      sess.run(optimizer, feed_dict={ae['x']: train})\n",
        "    print(epoch_i, sess.run(ae['cost'], feed_dict={ae['x']: train}))"
      ],
      "execution_count": 8,
      "outputs": [
        {
          "output_type": "stream",
          "text": [
            "0 2634.171232749153\n",
            "1 1756.0491291067794\n",
            "2 1480.1394207798471\n",
            "3 1255.7866928217447\n",
            "4 1091.8709250133631\n",
            "5 1005.1589565013303\n",
            "6 947.7880916701278\n",
            "7 913.2706215059286\n",
            "8 886.526671941207\n",
            "9 861.2565357700819\n"
          ],
          "name": "stdout"
        }
      ]
    },
    {
      "metadata": {
        "id": "mXrGdkcotSI-",
        "colab_type": "code",
        "outputId": "e4ac1060-ad63-42e5-8661-90f155990b34",
        "colab": {
          "base_uri": "https://localhost:8080/",
          "height": 495
        }
      },
      "cell_type": "code",
      "source": [
        "# Plot example reconstructions\n",
        "n_examples = 15\n",
        "mean_img = np.mean(X_train, axis=0)\n",
        "test_xs =X_test[0 * n_examples: (0 + 1) * n_examples]\n",
        "test_xs_norm = np.array([img - mean_img for img in test_xs]).reshape(n_examples,784)\n",
        "recon = sess.run(ae['y'], feed_dict={ae['x']: test_xs_norm})\n",
        "plt.figure()\n",
        "\n",
        "for example_i in range(n_examples):\n",
        "    print(example_i)\n",
        "    plt.subplot(2,15,example_i + 1)\n",
        "    plt.imshow(\n",
        "        np.reshape(test_xs[example_i, :], (28, 28)), cmap='coolwarm')\n",
        "    plt.subplot(2,15,16 + example_i)\n",
        "    plt.imshow(\n",
        "        np.reshape(np.reshape(recon[example_i, :], (784,)) + mean_img.reshape(784,), (28, 28)),\n",
        "        cmap='coolwarm')\n",
        "plt.show()"
      ],
      "execution_count": 22,
      "outputs": [
        {
          "output_type": "stream",
          "text": [
            "0\n",
            "1\n",
            "2\n",
            "3\n",
            "4\n",
            "5\n",
            "6\n",
            "7\n",
            "8\n",
            "9\n",
            "10\n",
            "11\n",
            "12\n",
            "13\n",
            "14\n"
          ],
          "name": "stdout"
        },
        {
          "output_type": "display_data",
          "data": {
            "image/png": "[encoded data removed]",
            "text/plain": [
              "<Figure size 576x396 with 30 Axes>"
            ]
          },
          "metadata": {
            "tags": []
          }
        }
      ]
    },
    {
      "metadata": {
        "id": "SMayFSYttxFg",
        "colab_type": "code",
        "colab": {}
      },
      "cell_type": "code",
      "source": [
        "plt.subplot()"
      ],
      "execution_count": 0,
      "outputs": []
    }
  ]
}